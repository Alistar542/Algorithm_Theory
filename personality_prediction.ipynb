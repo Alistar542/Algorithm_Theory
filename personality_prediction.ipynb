{
  "nbformat": 4,
  "nbformat_minor": 0,
  "metadata": {
    "colab": {
      "provenance": [],
      "collapsed_sections": [],
      "include_colab_link": true
    },
    "kernelspec": {
      "name": "python3",
      "display_name": "Python 3"
    },
    "language_info": {
      "name": "python"
    }
  },
  "cells": [
    {
      "cell_type": "markdown",
      "metadata": {
        "id": "view-in-github",
        "colab_type": "text"
      },
      "source": [
        "<a href=\"https://colab.research.google.com/github/Alistar542/Algorithm_Theory/blob/master/personality_prediction.ipynb\" target=\"_parent\"><img src=\"https://colab.research.google.com/assets/colab-badge.svg\" alt=\"Open In Colab\"/></a>"
      ]
    },
    {
      "cell_type": "code",
      "execution_count": null,
      "metadata": {
        "id": "bQqPPuHYz7Ik",
        "colab": {
          "base_uri": "https://localhost:8080/"
        },
        "outputId": "9b0b1f05-5568-4b57-e775-dfe2145047d7"
      },
      "outputs": [
        {
          "output_type": "stream",
          "name": "stderr",
          "text": [
            "[nltk_data] Downloading package stopwords to /root/nltk_data...\n",
            "[nltk_data]   Package stopwords is already up-to-date!\n",
            "[nltk_data] Downloading package punkt to /root/nltk_data...\n",
            "[nltk_data]   Package punkt is already up-to-date!\n",
            "[nltk_data] Downloading package vader_lexicon to /root/nltk_data...\n",
            "[nltk_data]   Package vader_lexicon is already up-to-date!\n",
            "[nltk_data] Downloading package averaged_perceptron_tagger to\n",
            "[nltk_data]     /root/nltk_data...\n",
            "[nltk_data]   Package averaged_perceptron_tagger is already up-to-\n",
            "[nltk_data]       date!\n",
            "[nltk_data] Downloading package wordnet to /root/nltk_data...\n",
            "[nltk_data]   Package wordnet is already up-to-date!\n",
            "[nltk_data] Downloading package omw-1.4 to /root/nltk_data...\n",
            "[nltk_data]   Package omw-1.4 is already up-to-date!\n"
          ]
        },
        {
          "output_type": "execute_result",
          "data": {
            "text/plain": [
              "True"
            ]
          },
          "metadata": {},
          "execution_count": 31
        }
      ],
      "source": [
        "import pandas as pd\n",
        "import numpy as np\n",
        "import string\n",
        "import re\n",
        "import nltk\n",
        "from sklearn.base import clone\n",
        "from sklearn.feature_extraction.text import CountVectorizer\n",
        "from sklearn.model_selection import train_test_split\n",
        "from nltk.corpus import stopwords\n",
        "from nltk.tokenize import word_tokenize\n",
        "from nltk.stem import WordNetLemmatizer\n",
        "import time\n",
        "import matplotlib.pyplot as plt\n",
        "from sklearn.ensemble import RandomForestClassifier\n",
        "from nltk.sentiment.vader import SentimentIntensityAnalyzer\n",
        "from sklearn.neighbors import KNeighborsClassifier\n",
        "from sklearn.neural_network import MLPClassifier\n",
        "from sklearn.linear_model import LogisticRegression\n",
        "from sklearn.naive_bayes import GaussianNB\n",
        "from sklearn.svm import SVC\n",
        "import plotly.graph_objects as px\n",
        "from plotly import graph_objects as go\n",
        "from sklearn.pipeline import make_pipeline\n",
        "from sklearn.preprocessing import StandardScaler\n",
        "from sklearn.preprocessing import RobustScaler\n",
        "from sklearn.preprocessing import MaxAbsScaler\n",
        "from sklearn.preprocessing import MinMaxScaler\n",
        "from sklearn.feature_selection import VarianceThreshold\n",
        "nltk.download('stopwords')\n",
        "nltk.download('punkt')\n",
        "nltk.download('vader_lexicon')\n",
        "nltk.download('averaged_perceptron_tagger')\n",
        "nltk.download('wordnet')\n",
        "nltk.download('omw-1.4')"
      ]
    },
    {
      "cell_type": "code",
      "source": [
        "# For mounting google drive. Can be removed when accessing the file from local system\n",
        "from google.colab import drive\n",
        "drive.mount('/content/drive')"
      ],
      "metadata": {
        "id": "TNfFq3BVfyZO",
        "colab": {
          "base_uri": "https://localhost:8080/"
        },
        "outputId": "709ec67a-da1f-49fc-df62-53f5aa9f14a3"
      },
      "execution_count": null,
      "outputs": [
        {
          "output_type": "stream",
          "name": "stdout",
          "text": [
            "Drive already mounted at /content/drive; to attempt to forcibly remount, call drive.mount(\"/content/drive\", force_remount=True).\n"
          ]
        }
      ]
    },
    {
      "cell_type": "code",
      "source": [
        "regex = r\"(\\:(\\w|\\+|\\-)+\\:)(?=|[\\!\\.\\?]|$)\"\n",
        "positive=[\n",
        "\t':cool:',\n",
        "\t':proud:',\n",
        "\t':ninja:',\n",
        "\t':kitteh:',\n",
        "\t':hampster:',\n",
        "\t':adoration:',\n",
        "\t':hearteyes:',\n",
        "\t':smiley-cool13:',\n",
        "\t':cheers2:',\n",
        "\t':eagerness:',\n",
        "\t':eek:',\n",
        "\t':angel:',\n",
        "\t':winky:',\n",
        "\t':biggrin:',\n",
        "]\n",
        "\n",
        "sad = [\n",
        "\t':sad:',\n",
        "\t':crying:',\n",
        "\t':tranquillity:',\n",
        "]\n",
        "\n",
        "happy = [\n",
        "\t':laughing:',\n",
        "\t':tongue:',\n",
        "\t':blushed:',\n",
        "\t':joyous:',\n",
        "\t':wink:',\n",
        "\t':th_wink:',\n",
        "]\n",
        "\n",
        "neutral = [\n",
        "\t':dry:',\n",
        "\t':mellow:',\n",
        "\t':carrot:',\n",
        "\t':brocoli:',\n",
        "\t':welcome:',\n",
        "\t':smile-new:',\n",
        "\t':puffer:',\n",
        "\t':emmersed:',\n",
        "]\n",
        "\n",
        "negative = [\n",
        "\t':suspicion:',\n",
        "\t':tranquillity:',\n",
        "\t':rolldeyes:',\n",
        "]\n",
        "\n",
        "feature_vectors = [\n",
        "\t\t'excl_per_comment',\n",
        "\t\t'ellipsis_per_comment',\t\n",
        "\t\t'colon_per_comment',\n",
        "\t\t'link_per_comment',\n",
        "\t\t'image_per_comment',\n",
        "\t\t'question_per_comment',\n",
        "\t\t'wordCount',\t\n",
        "\t\t'neg',\t\n",
        "\t\t'neu',\t\n",
        "\t\t'pos',\t\n",
        "\t\t'com',\t\n",
        "\t\t'num_nouns',\t\n",
        "\t\t'num_verbs',\n",
        "\t\t'happy_emoji_per_comment',\n",
        "\t\t'sad_emoji_per_comment',\n",
        "\t\t'positive_emoji_per_comment',\n",
        "\t\t'negative_emoji_per_comment',\n",
        "\t\t'neutral_emoji_per_comment',\n",
        "\t\t'all_emoji'\n",
        "]\n",
        "\n",
        "tags_dict = {\n",
        "    \"NOUN\": [\"NN\", \"NNS\", \"NNP\", \"NNPS\"],\n",
        "    \"VERB\": [\"MD\", \"VB\", \"VBD\", \"VBG\", \"VBN\", \"VBP\", \"VBZ\"],\n",
        "}"
      ],
      "metadata": {
        "id": "tabocUslmjXY"
      },
      "execution_count": null,
      "outputs": []
    },
    {
      "cell_type": "code",
      "source": [
        "#mbti_data = pd.read_csv('mbti_1.csv')\n",
        "mbti_data = pd.read_csv('drive/MyDrive/DS/mbti_1.csv')\n",
        "mbti_data.head()"
      ],
      "metadata": {
        "colab": {
          "base_uri": "https://localhost:8080/",
          "height": 352
        },
        "id": "mJ82RwCj3Ihc",
        "outputId": "7a7171c0-dbcd-4330-80e4-47212e0966d5"
      },
      "execution_count": null,
      "outputs": [
        {
          "output_type": "error",
          "ename": "FileNotFoundError",
          "evalue": "ignored",
          "traceback": [
            "\u001b[0;31m---------------------------------------------------------------------------\u001b[0m",
            "\u001b[0;31mFileNotFoundError\u001b[0m                         Traceback (most recent call last)",
            "\u001b[0;32m<ipython-input-7-c90bec7ea469>\u001b[0m in \u001b[0;36m<module>\u001b[0;34m\u001b[0m\n\u001b[1;32m      1\u001b[0m \u001b[0;31m#mbti_data = pd.read_csv('mbti_1.csv')\u001b[0m\u001b[0;34m\u001b[0m\u001b[0;34m\u001b[0m\u001b[0;34m\u001b[0m\u001b[0m\n\u001b[0;32m----> 2\u001b[0;31m \u001b[0mmbti_data\u001b[0m \u001b[0;34m=\u001b[0m \u001b[0mpd\u001b[0m\u001b[0;34m.\u001b[0m\u001b[0mread_csv\u001b[0m\u001b[0;34m(\u001b[0m\u001b[0;34m'drive/MyDrive/DS/mbti_1.csv'\u001b[0m\u001b[0;34m)\u001b[0m\u001b[0;34m\u001b[0m\u001b[0;34m\u001b[0m\u001b[0m\n\u001b[0m\u001b[1;32m      3\u001b[0m \u001b[0mmbti_data\u001b[0m\u001b[0;34m.\u001b[0m\u001b[0mhead\u001b[0m\u001b[0;34m(\u001b[0m\u001b[0;34m)\u001b[0m\u001b[0;34m\u001b[0m\u001b[0;34m\u001b[0m\u001b[0m\n",
            "\u001b[0;32m/usr/local/lib/python3.7/dist-packages/pandas/util/_decorators.py\u001b[0m in \u001b[0;36mwrapper\u001b[0;34m(*args, **kwargs)\u001b[0m\n\u001b[1;32m    309\u001b[0m                     \u001b[0mstacklevel\u001b[0m\u001b[0;34m=\u001b[0m\u001b[0mstacklevel\u001b[0m\u001b[0;34m,\u001b[0m\u001b[0;34m\u001b[0m\u001b[0;34m\u001b[0m\u001b[0m\n\u001b[1;32m    310\u001b[0m                 )\n\u001b[0;32m--> 311\u001b[0;31m             \u001b[0;32mreturn\u001b[0m \u001b[0mfunc\u001b[0m\u001b[0;34m(\u001b[0m\u001b[0;34m*\u001b[0m\u001b[0margs\u001b[0m\u001b[0;34m,\u001b[0m \u001b[0;34m**\u001b[0m\u001b[0mkwargs\u001b[0m\u001b[0;34m)\u001b[0m\u001b[0;34m\u001b[0m\u001b[0;34m\u001b[0m\u001b[0m\n\u001b[0m\u001b[1;32m    312\u001b[0m \u001b[0;34m\u001b[0m\u001b[0m\n\u001b[1;32m    313\u001b[0m         \u001b[0;32mreturn\u001b[0m \u001b[0mwrapper\u001b[0m\u001b[0;34m\u001b[0m\u001b[0;34m\u001b[0m\u001b[0m\n",
            "\u001b[0;32m/usr/local/lib/python3.7/dist-packages/pandas/io/parsers/readers.py\u001b[0m in \u001b[0;36mread_csv\u001b[0;34m(filepath_or_buffer, sep, delimiter, header, names, index_col, usecols, squeeze, prefix, mangle_dupe_cols, dtype, engine, converters, true_values, false_values, skipinitialspace, skiprows, skipfooter, nrows, na_values, keep_default_na, na_filter, verbose, skip_blank_lines, parse_dates, infer_datetime_format, keep_date_col, date_parser, dayfirst, cache_dates, iterator, chunksize, compression, thousands, decimal, lineterminator, quotechar, quoting, doublequote, escapechar, comment, encoding, encoding_errors, dialect, error_bad_lines, warn_bad_lines, on_bad_lines, delim_whitespace, low_memory, memory_map, float_precision, storage_options)\u001b[0m\n\u001b[1;32m    584\u001b[0m     \u001b[0mkwds\u001b[0m\u001b[0;34m.\u001b[0m\u001b[0mupdate\u001b[0m\u001b[0;34m(\u001b[0m\u001b[0mkwds_defaults\u001b[0m\u001b[0;34m)\u001b[0m\u001b[0;34m\u001b[0m\u001b[0;34m\u001b[0m\u001b[0m\n\u001b[1;32m    585\u001b[0m \u001b[0;34m\u001b[0m\u001b[0m\n\u001b[0;32m--> 586\u001b[0;31m     \u001b[0;32mreturn\u001b[0m \u001b[0m_read\u001b[0m\u001b[0;34m(\u001b[0m\u001b[0mfilepath_or_buffer\u001b[0m\u001b[0;34m,\u001b[0m \u001b[0mkwds\u001b[0m\u001b[0;34m)\u001b[0m\u001b[0;34m\u001b[0m\u001b[0;34m\u001b[0m\u001b[0m\n\u001b[0m\u001b[1;32m    587\u001b[0m \u001b[0;34m\u001b[0m\u001b[0m\n\u001b[1;32m    588\u001b[0m \u001b[0;34m\u001b[0m\u001b[0m\n",
            "\u001b[0;32m/usr/local/lib/python3.7/dist-packages/pandas/io/parsers/readers.py\u001b[0m in \u001b[0;36m_read\u001b[0;34m(filepath_or_buffer, kwds)\u001b[0m\n\u001b[1;32m    480\u001b[0m \u001b[0;34m\u001b[0m\u001b[0m\n\u001b[1;32m    481\u001b[0m     \u001b[0;31m# Create the parser.\u001b[0m\u001b[0;34m\u001b[0m\u001b[0;34m\u001b[0m\u001b[0;34m\u001b[0m\u001b[0m\n\u001b[0;32m--> 482\u001b[0;31m     \u001b[0mparser\u001b[0m \u001b[0;34m=\u001b[0m \u001b[0mTextFileReader\u001b[0m\u001b[0;34m(\u001b[0m\u001b[0mfilepath_or_buffer\u001b[0m\u001b[0;34m,\u001b[0m \u001b[0;34m**\u001b[0m\u001b[0mkwds\u001b[0m\u001b[0;34m)\u001b[0m\u001b[0;34m\u001b[0m\u001b[0;34m\u001b[0m\u001b[0m\n\u001b[0m\u001b[1;32m    483\u001b[0m \u001b[0;34m\u001b[0m\u001b[0m\n\u001b[1;32m    484\u001b[0m     \u001b[0;32mif\u001b[0m \u001b[0mchunksize\u001b[0m \u001b[0;32mor\u001b[0m \u001b[0miterator\u001b[0m\u001b[0;34m:\u001b[0m\u001b[0;34m\u001b[0m\u001b[0;34m\u001b[0m\u001b[0m\n",
            "\u001b[0;32m/usr/local/lib/python3.7/dist-packages/pandas/io/parsers/readers.py\u001b[0m in \u001b[0;36m__init__\u001b[0;34m(self, f, engine, **kwds)\u001b[0m\n\u001b[1;32m    809\u001b[0m             \u001b[0mself\u001b[0m\u001b[0;34m.\u001b[0m\u001b[0moptions\u001b[0m\u001b[0;34m[\u001b[0m\u001b[0;34m\"has_index_names\"\u001b[0m\u001b[0;34m]\u001b[0m \u001b[0;34m=\u001b[0m \u001b[0mkwds\u001b[0m\u001b[0;34m[\u001b[0m\u001b[0;34m\"has_index_names\"\u001b[0m\u001b[0;34m]\u001b[0m\u001b[0;34m\u001b[0m\u001b[0;34m\u001b[0m\u001b[0m\n\u001b[1;32m    810\u001b[0m \u001b[0;34m\u001b[0m\u001b[0m\n\u001b[0;32m--> 811\u001b[0;31m         \u001b[0mself\u001b[0m\u001b[0;34m.\u001b[0m\u001b[0m_engine\u001b[0m \u001b[0;34m=\u001b[0m \u001b[0mself\u001b[0m\u001b[0;34m.\u001b[0m\u001b[0m_make_engine\u001b[0m\u001b[0;34m(\u001b[0m\u001b[0mself\u001b[0m\u001b[0;34m.\u001b[0m\u001b[0mengine\u001b[0m\u001b[0;34m)\u001b[0m\u001b[0;34m\u001b[0m\u001b[0;34m\u001b[0m\u001b[0m\n\u001b[0m\u001b[1;32m    812\u001b[0m \u001b[0;34m\u001b[0m\u001b[0m\n\u001b[1;32m    813\u001b[0m     \u001b[0;32mdef\u001b[0m \u001b[0mclose\u001b[0m\u001b[0;34m(\u001b[0m\u001b[0mself\u001b[0m\u001b[0;34m)\u001b[0m\u001b[0;34m:\u001b[0m\u001b[0;34m\u001b[0m\u001b[0;34m\u001b[0m\u001b[0m\n",
            "\u001b[0;32m/usr/local/lib/python3.7/dist-packages/pandas/io/parsers/readers.py\u001b[0m in \u001b[0;36m_make_engine\u001b[0;34m(self, engine)\u001b[0m\n\u001b[1;32m   1038\u001b[0m             )\n\u001b[1;32m   1039\u001b[0m         \u001b[0;31m# error: Too many arguments for \"ParserBase\"\u001b[0m\u001b[0;34m\u001b[0m\u001b[0;34m\u001b[0m\u001b[0;34m\u001b[0m\u001b[0m\n\u001b[0;32m-> 1040\u001b[0;31m         \u001b[0;32mreturn\u001b[0m \u001b[0mmapping\u001b[0m\u001b[0;34m[\u001b[0m\u001b[0mengine\u001b[0m\u001b[0;34m]\u001b[0m\u001b[0;34m(\u001b[0m\u001b[0mself\u001b[0m\u001b[0;34m.\u001b[0m\u001b[0mf\u001b[0m\u001b[0;34m,\u001b[0m \u001b[0;34m**\u001b[0m\u001b[0mself\u001b[0m\u001b[0;34m.\u001b[0m\u001b[0moptions\u001b[0m\u001b[0;34m)\u001b[0m  \u001b[0;31m# type: ignore[call-arg]\u001b[0m\u001b[0;34m\u001b[0m\u001b[0;34m\u001b[0m\u001b[0m\n\u001b[0m\u001b[1;32m   1041\u001b[0m \u001b[0;34m\u001b[0m\u001b[0m\n\u001b[1;32m   1042\u001b[0m     \u001b[0;32mdef\u001b[0m \u001b[0m_failover_to_python\u001b[0m\u001b[0;34m(\u001b[0m\u001b[0mself\u001b[0m\u001b[0;34m)\u001b[0m\u001b[0;34m:\u001b[0m\u001b[0;34m\u001b[0m\u001b[0;34m\u001b[0m\u001b[0m\n",
            "\u001b[0;32m/usr/local/lib/python3.7/dist-packages/pandas/io/parsers/c_parser_wrapper.py\u001b[0m in \u001b[0;36m__init__\u001b[0;34m(self, src, **kwds)\u001b[0m\n\u001b[1;32m     49\u001b[0m \u001b[0;34m\u001b[0m\u001b[0m\n\u001b[1;32m     50\u001b[0m         \u001b[0;31m# open handles\u001b[0m\u001b[0;34m\u001b[0m\u001b[0;34m\u001b[0m\u001b[0;34m\u001b[0m\u001b[0m\n\u001b[0;32m---> 51\u001b[0;31m         \u001b[0mself\u001b[0m\u001b[0;34m.\u001b[0m\u001b[0m_open_handles\u001b[0m\u001b[0;34m(\u001b[0m\u001b[0msrc\u001b[0m\u001b[0;34m,\u001b[0m \u001b[0mkwds\u001b[0m\u001b[0;34m)\u001b[0m\u001b[0;34m\u001b[0m\u001b[0;34m\u001b[0m\u001b[0m\n\u001b[0m\u001b[1;32m     52\u001b[0m         \u001b[0;32massert\u001b[0m \u001b[0mself\u001b[0m\u001b[0;34m.\u001b[0m\u001b[0mhandles\u001b[0m \u001b[0;32mis\u001b[0m \u001b[0;32mnot\u001b[0m \u001b[0;32mNone\u001b[0m\u001b[0;34m\u001b[0m\u001b[0;34m\u001b[0m\u001b[0m\n\u001b[1;32m     53\u001b[0m \u001b[0;34m\u001b[0m\u001b[0m\n",
            "\u001b[0;32m/usr/local/lib/python3.7/dist-packages/pandas/io/parsers/base_parser.py\u001b[0m in \u001b[0;36m_open_handles\u001b[0;34m(self, src, kwds)\u001b[0m\n\u001b[1;32m    227\u001b[0m             \u001b[0mmemory_map\u001b[0m\u001b[0;34m=\u001b[0m\u001b[0mkwds\u001b[0m\u001b[0;34m.\u001b[0m\u001b[0mget\u001b[0m\u001b[0;34m(\u001b[0m\u001b[0;34m\"memory_map\"\u001b[0m\u001b[0;34m,\u001b[0m \u001b[0;32mFalse\u001b[0m\u001b[0;34m)\u001b[0m\u001b[0;34m,\u001b[0m\u001b[0;34m\u001b[0m\u001b[0;34m\u001b[0m\u001b[0m\n\u001b[1;32m    228\u001b[0m             \u001b[0mstorage_options\u001b[0m\u001b[0;34m=\u001b[0m\u001b[0mkwds\u001b[0m\u001b[0;34m.\u001b[0m\u001b[0mget\u001b[0m\u001b[0;34m(\u001b[0m\u001b[0;34m\"storage_options\"\u001b[0m\u001b[0;34m,\u001b[0m \u001b[0;32mNone\u001b[0m\u001b[0;34m)\u001b[0m\u001b[0;34m,\u001b[0m\u001b[0;34m\u001b[0m\u001b[0;34m\u001b[0m\u001b[0m\n\u001b[0;32m--> 229\u001b[0;31m             \u001b[0merrors\u001b[0m\u001b[0;34m=\u001b[0m\u001b[0mkwds\u001b[0m\u001b[0;34m.\u001b[0m\u001b[0mget\u001b[0m\u001b[0;34m(\u001b[0m\u001b[0;34m\"encoding_errors\"\u001b[0m\u001b[0;34m,\u001b[0m \u001b[0;34m\"strict\"\u001b[0m\u001b[0;34m)\u001b[0m\u001b[0;34m,\u001b[0m\u001b[0;34m\u001b[0m\u001b[0;34m\u001b[0m\u001b[0m\n\u001b[0m\u001b[1;32m    230\u001b[0m         )\n\u001b[1;32m    231\u001b[0m \u001b[0;34m\u001b[0m\u001b[0m\n",
            "\u001b[0;32m/usr/local/lib/python3.7/dist-packages/pandas/io/common.py\u001b[0m in \u001b[0;36mget_handle\u001b[0;34m(path_or_buf, mode, encoding, compression, memory_map, is_text, errors, storage_options)\u001b[0m\n\u001b[1;32m    705\u001b[0m                 \u001b[0mencoding\u001b[0m\u001b[0;34m=\u001b[0m\u001b[0mioargs\u001b[0m\u001b[0;34m.\u001b[0m\u001b[0mencoding\u001b[0m\u001b[0;34m,\u001b[0m\u001b[0;34m\u001b[0m\u001b[0;34m\u001b[0m\u001b[0m\n\u001b[1;32m    706\u001b[0m                 \u001b[0merrors\u001b[0m\u001b[0;34m=\u001b[0m\u001b[0merrors\u001b[0m\u001b[0;34m,\u001b[0m\u001b[0;34m\u001b[0m\u001b[0;34m\u001b[0m\u001b[0m\n\u001b[0;32m--> 707\u001b[0;31m                 \u001b[0mnewline\u001b[0m\u001b[0;34m=\u001b[0m\u001b[0;34m\"\"\u001b[0m\u001b[0;34m,\u001b[0m\u001b[0;34m\u001b[0m\u001b[0;34m\u001b[0m\u001b[0m\n\u001b[0m\u001b[1;32m    708\u001b[0m             )\n\u001b[1;32m    709\u001b[0m         \u001b[0;32melse\u001b[0m\u001b[0;34m:\u001b[0m\u001b[0;34m\u001b[0m\u001b[0;34m\u001b[0m\u001b[0m\n",
            "\u001b[0;31mFileNotFoundError\u001b[0m: [Errno 2] No such file or directory: 'drive/MyDrive/DS/mbti_1.csv'"
          ]
        }
      ]
    },
    {
      "cell_type": "markdown",
      "source": [
        "**Initial Visualization**"
      ],
      "metadata": {
        "id": "edg2UofjtCr4"
      }
    },
    {
      "cell_type": "code",
      "source": [
        "mbti_data[\"type\"].value_counts().plot(kind=\"bar\")\n",
        "plt.show()"
      ],
      "metadata": {
        "colab": {
          "base_uri": "https://localhost:8080/",
          "height": 281
        },
        "id": "FXXAZQWYh2Kg",
        "outputId": "f1a80baf-57b4-4bc7-c2c0-1955cb79cf32"
      },
      "execution_count": null,
      "outputs": [
        {
          "output_type": "display_data",
          "data": {
            "text/plain": [
              "<Figure size 432x288 with 1 Axes>"
            ],
            "image/png": "[encoded data removed]"
          },
          "metadata": {
            "needs_background": "light"
          }
        }
      ]
    },
    {
      "cell_type": "markdown",
      "source": [
        "**Data cleaning and Processing**"
      ],
      "metadata": {
        "id": "oQDZr0ja_b8r"
      }
    },
    {
      "cell_type": "code",
      "source": [
        "# Method for cleaning the comments and generating pos_tags\n",
        "def clean_data(text):\n",
        "  # To replace ||| to ''\n",
        "  text = text.replace('|||', ' ')\n",
        "  # To replace ...\n",
        "  text = text.replace('...', ' ')\n",
        "  # To lower the case\n",
        "  text = text.lower()\n",
        "  # To remove the http links\n",
        "  text = re.sub(r'http\\S+', '', text)\n",
        "  # To remove emails\n",
        "  text = re.sub(r'\\S*@\\S*\\s?', '', text)\n",
        "  # To remove punctuations\n",
        "  text = re.sub(r'[^a-z\\s]', ' ', text)\n",
        "  # To remove numbers\n",
        "  text = ''.join([i for i in text if not i.isdigit()])\n",
        "  # To remove extra space\n",
        "  text = \" \".join(text.split())\n",
        "  # To remove repeating exclamations\n",
        "  text = re.sub(r'(!)1+', '', text)\n",
        "  # Fetching the stop words\n",
        "  stop_words = stopwords.words('english')\n",
        "  # Removing the stop words from the text\n",
        "  filtered_sentence = [w for w in text.split(\" \") if not w.lower() in stop_words]\n",
        "  # Removing words less than length of 2\n",
        "  filtered_sentence = [f for f in filtered_sentence if len(f) > 2]\n",
        "  # Remove mbti types\n",
        "  mbti_types = mbti_data[\"type\"].unique()\n",
        "  mbti_types = list(map(lambda x: x.lower(), mbti_types))\n",
        "  filtered_sentence = [f for f in filtered_sentence if f not in mbti_types]\n",
        "  # Perform Lemmatization\n",
        "  lemmatizer = WordNetLemmatizer()\n",
        "  lemmatized_post = [lemmatizer.lemmatize(f) for f in filtered_sentence]\n",
        "  # Find the pos_tags for the text\n",
        "  pos_tags = nltk.pos_tag(lemmatized_post)\n",
        "\n",
        "  return lemmatized_post, pos_tags"
      ],
      "metadata": {
        "id": "59hiCRnq51GS"
      },
      "execution_count": null,
      "outputs": []
    },
    {
      "cell_type": "code",
      "source": [
        "# Method for calculating sentiments for the comments\n",
        "def calculate_sentiment(text):\n",
        "  analyzer = SentimentIntensityAnalyzer()\n",
        "  score = analyzer.polarity_scores(text)\n",
        "  return score"
      ],
      "metadata": {
        "id": "eWeoxeFHq0Lf"
      },
      "execution_count": null,
      "outputs": []
    },
    {
      "cell_type": "code",
      "source": [
        "# Method for calculating the length of tags\n",
        "def number_of_tags(posTags,tag):\n",
        "    num_tags = []\n",
        "    for p in posTags:\n",
        "        num_tags.append(len([word for word,pos in p if pos in tags_dict[tag]]))\n",
        "    return num_tags"
      ],
      "metadata": {
        "id": "Udh6EgHHHjSQ"
      },
      "execution_count": null,
      "outputs": []
    },
    {
      "cell_type": "code",
      "source": [
        "#By Abby\n",
        "def get_emoji_on_type(inpt,emoji_type):\n",
        "    r = re.finditer(regex,inpt,re.IGNORECASE | re.MULTILINE)\n",
        "    outpt = 0\n",
        "    for emoji in r:\n",
        "            if emoji.group() in emoji_type:\n",
        "                outpt+=1\n",
        "    return outpt"
      ],
      "metadata": {
        "id": "UhPiPJUIh7eE"
      },
      "execution_count": null,
      "outputs": []
    },
    {
      "cell_type": "code",
      "source": [
        "#By Abby\n",
        "def get_all_emojis(inpt):\n",
        "    r = re.finditer(regex,inpt,re.IGNORECASE | re.MULTILINE)\n",
        "    outpt = 0\n",
        "    for i in r:\n",
        "        outpt+=1\n",
        "    return outpt"
      ],
      "metadata": {
        "id": "PFZC737Fwxxe"
      },
      "execution_count": null,
      "outputs": []
    },
    {
      "cell_type": "code",
      "source": [
        "# Calculate cleaned_post\n",
        "cleaned_post = mbti_data['posts'].apply(lambda x : clean_data(x))\n",
        "cleaned_data,pos_tags = list(zip(*cleaned_post))\n",
        "mbti_data['cleaned_post'] = [' '.join(x) for x in cleaned_data]"
      ],
      "metadata": {
        "id": "_7QgBDFm9RNM"
      },
      "execution_count": null,
      "outputs": []
    },
    {
      "cell_type": "code",
      "source": [
        "# Calculate sentiments for the data\n",
        "sentiments = mbti_data['cleaned_post'].apply(lambda x : calculate_sentiment(x))\n",
        "\n",
        "mbti_data['neg'] = [x['neg'] for x in sentiments]\n",
        "mbti_data['neu'] = [x['neu'] for x in sentiments]\n",
        "mbti_data['pos'] = [x['pos'] for x in sentiments]\n",
        "mbti_data['com'] = [x['compound'] for x in sentiments]"
      ],
      "metadata": {
        "id": "Uk94PC0uXQ0J"
      },
      "execution_count": null,
      "outputs": []
    },
    {
      "cell_type": "code",
      "source": [
        "# Calculate num_nouns, num_verbs\n",
        "mbti_data['num_nouns'] = number_of_tags(pos_tags,\"NOUN\")\n",
        "mbti_data['num_nouns'] = mbti_data['num_nouns']/50\n",
        "mbti_data['num_verbs'] = number_of_tags(pos_tags,\"VERB\")\n",
        "mbti_data['num_verbs'] = mbti_data['num_verbs']/50"
      ],
      "metadata": {
        "id": "0T27GQUwHoIW"
      },
      "execution_count": null,
      "outputs": []
    },
    {
      "cell_type": "code",
      "source": [
        "# Calculate emoji score\n",
        "mbti_data['happy_emoji_per_comment'] = mbti_data['posts'].apply(lambda x : get_emoji_on_type(x,happy)/50)\n",
        "mbti_data['sad_emoji_per_comment'] = mbti_data['posts'].apply(lambda x : get_emoji_on_type(x,sad)/50)\n",
        "mbti_data['positive_emoji_per_comment'] = mbti_data['posts'].apply(lambda x : get_emoji_on_type(x,positive)/50)\n",
        "mbti_data['negative_emoji_per_comment'] = mbti_data['posts'].apply(lambda x :get_emoji_on_type(x,negative)/50)\n",
        "mbti_data['neutral_emoji_per_comment'] = mbti_data['posts'].apply(lambda x : get_emoji_on_type(x,neutral)/50)\n",
        "mbti_data['all_emoji'] = mbti_data['posts'].apply(lambda x :get_all_emojis(x)/50)"
      ],
      "metadata": {
        "id": "xeBuSavLxBS7"
      },
      "execution_count": null,
      "outputs": []
    },
    {
      "cell_type": "code",
      "source": [
        "# Calculate other parameters\n",
        "mbti_data['image_per_comment'] = mbti_data['posts'].apply(lambda x: x.count('jpg')/50)\n",
        "mbti_data['link_per_comment'] = mbti_data['posts'].apply(lambda x: x.count('http')/50)\n",
        "mbti_data['question_per_comment'] = mbti_data['posts'].apply(lambda x: x.count('?')/50)\n",
        "mbti_data['excl_per_comment'] = mbti_data['posts'].apply(lambda x: x.count('!')/50)\n",
        "mbti_data['ellipsis_per_comment'] = mbti_data['posts'].apply(lambda x: x.count('...')/50)\n",
        "mbti_data['colon_per_comment'] = mbti_data['posts'].apply(lambda x: x.count(':')/50)\n",
        "mbti_data['wordCount'] = mbti_data['cleaned_post'].apply(lambda x: len(x.split()))"
      ],
      "metadata": {
        "id": "pC0u9w9Ybqzu"
      },
      "execution_count": null,
      "outputs": []
    },
    {
      "cell_type": "code",
      "source": [
        "mbti_data.head()"
      ],
      "metadata": {
        "id": "nAH7b5ZNRtyW",
        "colab": {
          "base_uri": "https://localhost:8080/",
          "height": 577
        },
        "outputId": "ed0e738b-649c-46df-efed-ca450b18fd36"
      },
      "execution_count": null,
      "outputs": [
        {
          "output_type": "execute_result",
          "data": {
            "text/plain": [
              "   type                                              posts  \\\n",
              "0  INFJ  'http://www.youtube.com/watch?v=qsXHcwe3krw|||...   \n",
              "1  ENTP  'I'm finding the lack of me in these posts ver...   \n",
              "2  INTP  'Good one  _____   https://www.youtube.com/wat...   \n",
              "3  INTJ  'Dear INTP,   I enjoyed our conversation the o...   \n",
              "4  ENTJ  'You're fired.|||That's another silly misconce...   \n",
              "\n",
              "                                        cleaned_post    neg    neu    pos  \\\n",
              "0  moment sportscenter top ten play prank life ch...  0.132  0.595  0.272   \n",
              "1  finding lack post alarming sex boring position...  0.121  0.588  0.291   \n",
              "2  good one course say know blessing curse absolu...  0.118  0.574  0.309   \n",
              "3  dear enjoyed conversation day esoteric gabbing...  0.089  0.655  0.256   \n",
              "4  fired another silly misconception approaching ...  0.195  0.535  0.270   \n",
              "\n",
              "      com  num_nouns  num_verbs  happy_emoji_per_comment  ...  \\\n",
              "0  0.9924       2.68       1.30                     0.00  ...   \n",
              "1  0.9987       4.28       2.42                     0.00  ...   \n",
              "2  0.9985       3.36       1.70                     0.00  ...   \n",
              "3  0.9984       3.66       2.22                     0.00  ...   \n",
              "4  0.9884       3.56       2.20                     0.02  ...   \n",
              "\n",
              "   negative_emoji_per_comment  neutral_emoji_per_comment  all_emoji  \\\n",
              "0                         0.0                        0.0       0.06   \n",
              "1                         0.0                        0.0       0.00   \n",
              "2                         0.0                        0.0       0.00   \n",
              "3                         0.0                        0.0       0.00   \n",
              "4                         0.0                        0.0       0.02   \n",
              "\n",
              "   image_per_comment  link_per_comment  question_per_comment  \\\n",
              "0               0.12              0.48                  0.36   \n",
              "1               0.02              0.20                  0.10   \n",
              "2               0.00              0.10                  0.24   \n",
              "3               0.00              0.04                  0.22   \n",
              "4               0.04              0.12                  0.20   \n",
              "\n",
              "   excl_per_comment  ellipsis_per_comment  colon_per_comment  wordCount  \n",
              "0              0.06                  0.30               0.68        293  \n",
              "1              0.00                  0.38               0.56        525  \n",
              "2              0.08                  0.26               0.38        414  \n",
              "3              0.06                  0.52               0.10        493  \n",
              "4              0.02                  0.42               0.28        452  \n",
              "\n",
              "[5 rows x 22 columns]"
            ],
            "text/html": [
              "\n",
              "  <div id=\"df-fa2de417-84f2-410f-88f7-501a754c67ab\">\n",
              "    <div class=\"colab-df-container\">\n",
              "      <div>\n",
              "<style scoped>\n",
              "    .dataframe tbody tr th:only-of-type {\n",
              "        vertical-align: middle;\n",
              "    }\n",
              "\n",
              "    .dataframe tbody tr th {\n",
              "        vertical-align: top;\n",
              "    }\n",
              "\n",
              "    .dataframe thead th {\n",
              "        text-align: right;\n",
              "    }\n",
              "</style>\n",
              "<table border=\"1\" class=\"dataframe\">\n",
              "  <thead>\n",
              "    <tr style=\"text-align: right;\">\n",
              "      <th></th>\n",
              "      <th>type</th>\n",
              "      <th>posts</th>\n",
              "      <th>cleaned_post</th>\n",
              "      <th>neg</th>\n",
              "      <th>neu</th>\n",
              "      <th>pos</th>\n",
              "      <th>com</th>\n",
              "      <th>num_nouns</th>\n",
              "      <th>num_verbs</th>\n",
              "      <th>happy_emoji_per_comment</th>\n",
              "      <th>...</th>\n",
              "      <th>negative_emoji_per_comment</th>\n",
              "      <th>neutral_emoji_per_comment</th>\n",
              "      <th>all_emoji</th>\n",
              "      <th>image_per_comment</th>\n",
              "      <th>link_per_comment</th>\n",
              "      <th>question_per_comment</th>\n",
              "      <th>excl_per_comment</th>\n",
              "      <th>ellipsis_per_comment</th>\n",
              "      <th>colon_per_comment</th>\n",
              "      <th>wordCount</th>\n",
              "    </tr>\n",
              "  </thead>\n",
              "  <tbody>\n",
              "    <tr>\n",
              "      <th>0</th>\n",
              "      <td>INFJ</td>\n",
              "      <td>'http://www.youtube.com/watch?v=qsXHcwe3krw|||...</td>\n",
              "      <td>moment sportscenter top ten play prank life ch...</td>\n",
              "      <td>0.132</td>\n",
              "      <td>0.595</td>\n",
              "      <td>0.272</td>\n",
              "      <td>0.9924</td>\n",
              "      <td>2.68</td>\n",
              "      <td>1.30</td>\n",
              "      <td>0.00</td>\n",
              "      <td>...</td>\n",
              "      <td>0.0</td>\n",
              "      <td>0.0</td>\n",
              "      <td>0.06</td>\n",
              "      <td>0.12</td>\n",
              "      <td>0.48</td>\n",
              "      <td>0.36</td>\n",
              "      <td>0.06</td>\n",
              "      <td>0.30</td>\n",
              "      <td>0.68</td>\n",
              "      <td>293</td>\n",
              "    </tr>\n",
              "    <tr>\n",
              "      <th>1</th>\n",
              "      <td>ENTP</td>\n",
              "      <td>'I'm finding the lack of me in these posts ver...</td>\n",
              "      <td>finding lack post alarming sex boring position...</td>\n",
              "      <td>0.121</td>\n",
              "      <td>0.588</td>\n",
              "      <td>0.291</td>\n",
              "      <td>0.9987</td>\n",
              "      <td>4.28</td>\n",
              "      <td>2.42</td>\n",
              "      <td>0.00</td>\n",
              "      <td>...</td>\n",
              "      <td>0.0</td>\n",
              "      <td>0.0</td>\n",
              "      <td>0.00</td>\n",
              "      <td>0.02</td>\n",
              "      <td>0.20</td>\n",
              "      <td>0.10</td>\n",
              "      <td>0.00</td>\n",
              "      <td>0.38</td>\n",
              "      <td>0.56</td>\n",
              "      <td>525</td>\n",
              "    </tr>\n",
              "    <tr>\n",
              "      <th>2</th>\n",
              "      <td>INTP</td>\n",
              "      <td>'Good one  _____   https://www.youtube.com/wat...</td>\n",
              "      <td>good one course say know blessing curse absolu...</td>\n",
              "      <td>0.118</td>\n",
              "      <td>0.574</td>\n",
              "      <td>0.309</td>\n",
              "      <td>0.9985</td>\n",
              "      <td>3.36</td>\n",
              "      <td>1.70</td>\n",
              "      <td>0.00</td>\n",
              "      <td>...</td>\n",
              "      <td>0.0</td>\n",
              "      <td>0.0</td>\n",
              "      <td>0.00</td>\n",
              "      <td>0.00</td>\n",
              "      <td>0.10</td>\n",
              "      <td>0.24</td>\n",
              "      <td>0.08</td>\n",
              "      <td>0.26</td>\n",
              "      <td>0.38</td>\n",
              "      <td>414</td>\n",
              "    </tr>\n",
              "    <tr>\n",
              "      <th>3</th>\n",
              "      <td>INTJ</td>\n",
              "      <td>'Dear INTP,   I enjoyed our conversation the o...</td>\n",
              "      <td>dear enjoyed conversation day esoteric gabbing...</td>\n",
              "      <td>0.089</td>\n",
              "      <td>0.655</td>\n",
              "      <td>0.256</td>\n",
              "      <td>0.9984</td>\n",
              "      <td>3.66</td>\n",
              "      <td>2.22</td>\n",
              "      <td>0.00</td>\n",
              "      <td>...</td>\n",
              "      <td>0.0</td>\n",
              "      <td>0.0</td>\n",
              "      <td>0.00</td>\n",
              "      <td>0.00</td>\n",
              "      <td>0.04</td>\n",
              "      <td>0.22</td>\n",
              "      <td>0.06</td>\n",
              "      <td>0.52</td>\n",
              "      <td>0.10</td>\n",
              "      <td>493</td>\n",
              "    </tr>\n",
              "    <tr>\n",
              "      <th>4</th>\n",
              "      <td>ENTJ</td>\n",
              "      <td>'You're fired.|||That's another silly misconce...</td>\n",
              "      <td>fired another silly misconception approaching ...</td>\n",
              "      <td>0.195</td>\n",
              "      <td>0.535</td>\n",
              "      <td>0.270</td>\n",
              "      <td>0.9884</td>\n",
              "      <td>3.56</td>\n",
              "      <td>2.20</td>\n",
              "      <td>0.02</td>\n",
              "      <td>...</td>\n",
              "      <td>0.0</td>\n",
              "      <td>0.0</td>\n",
              "      <td>0.02</td>\n",
              "      <td>0.04</td>\n",
              "      <td>0.12</td>\n",
              "      <td>0.20</td>\n",
              "      <td>0.02</td>\n",
              "      <td>0.42</td>\n",
              "      <td>0.28</td>\n",
              "      <td>452</td>\n",
              "    </tr>\n",
              "  </tbody>\n",
              "</table>\n",
              "<p>5 rows × 22 columns</p>\n",
              "</div>\n",
              "      <button class=\"colab-df-convert\" onclick=\"convertToInteractive('df-fa2de417-84f2-410f-88f7-501a754c67ab')\"\n",
              "              title=\"Convert this dataframe to an interactive table.\"\n",
              "              style=\"display:none;\">\n",
              "        \n",
              "  <svg xmlns=\"http://www.w3.org/2000/svg\" height=\"24px\"viewBox=\"0 0 24 24\"\n",
              "       width=\"24px\">\n",
              "    <path d=\"M0 0h24v24H0V0z\" fill=\"none\"/>\n",
              "    <path d=\"M18.56 5.44l.94 2.06.94-2.06 2.06-.94-2.06-.94-.94-2.06-.94 2.06-2.06.94zm-11 1L8.5 8.5l.94-2.06 2.06-.94-2.06-.94L8.5 2.5l-.94 2.06-2.06.94zm10 10l.94 2.06.94-2.06 2.06-.94-2.06-.94-.94-2.06-.94 2.06-2.06.94z\"/><path d=\"M17.41 7.96l-1.37-1.37c-.4-.4-.92-.59-1.43-.59-.52 0-1.04.2-1.43.59L10.3 9.45l-7.72 7.72c-.78.78-.78 2.05 0 2.83L4 21.41c.39.39.9.59 1.41.59.51 0 1.02-.2 1.41-.59l7.78-7.78 2.81-2.81c.8-.78.8-2.07 0-2.86zM5.41 20L4 18.59l7.72-7.72 1.47 1.35L5.41 20z\"/>\n",
              "  </svg>\n",
              "      </button>\n",
              "      \n",
              "  <style>\n",
              "    .colab-df-container {\n",
              "      display:flex;\n",
              "      flex-wrap:wrap;\n",
              "      gap: 12px;\n",
              "    }\n",
              "\n",
              "    .colab-df-convert {\n",
              "      background-color: #E8F0FE;\n",
              "      border: none;\n",
              "      border-radius: 50%;\n",
              "      cursor: pointer;\n",
              "      display: none;\n",
              "      fill: #1967D2;\n",
              "      height: 32px;\n",
              "      padding: 0 0 0 0;\n",
              "      width: 32px;\n",
              "    }\n",
              "\n",
              "    .colab-df-convert:hover {\n",
              "      background-color: #E2EBFA;\n",
              "      box-shadow: 0px 1px 2px rgba(60, 64, 67, 0.3), 0px 1px 3px 1px rgba(60, 64, 67, 0.15);\n",
              "      fill: #174EA6;\n",
              "    }\n",
              "\n",
              "    [theme=dark] .colab-df-convert {\n",
              "      background-color: #3B4455;\n",
              "      fill: #D2E3FC;\n",
              "    }\n",
              "\n",
              "    [theme=dark] .colab-df-convert:hover {\n",
              "      background-color: #434B5C;\n",
              "      box-shadow: 0px 1px 3px 1px rgba(0, 0, 0, 0.15);\n",
              "      filter: drop-shadow(0px 1px 2px rgba(0, 0, 0, 0.3));\n",
              "      fill: #FFFFFF;\n",
              "    }\n",
              "  </style>\n",
              "\n",
              "      <script>\n",
              "        const buttonEl =\n",
              "          document.querySelector('#df-fa2de417-84f2-410f-88f7-501a754c67ab button.colab-df-convert');\n",
              "        buttonEl.style.display =\n",
              "          google.colab.kernel.accessAllowed ? 'block' : 'none';\n",
              "\n",
              "        async function convertToInteractive(key) {\n",
              "          const element = document.querySelector('#df-fa2de417-84f2-410f-88f7-501a754c67ab');\n",
              "          const dataTable =\n",
              "            await google.colab.kernel.invokeFunction('convertToInteractive',\n",
              "                                                     [key], {});\n",
              "          if (!dataTable) return;\n",
              "\n",
              "          const docLinkHtml = 'Like what you see? Visit the ' +\n",
              "            '<a target=\"_blank\" href=https://colab.research.google.com/notebooks/data_table.ipynb>data table notebook</a>'\n",
              "            + ' to learn more about interactive tables.';\n",
              "          element.innerHTML = '';\n",
              "          dataTable['output_type'] = 'display_data';\n",
              "          await google.colab.output.renderOutput(dataTable, element);\n",
              "          const docLink = document.createElement('div');\n",
              "          docLink.innerHTML = docLinkHtml;\n",
              "          element.appendChild(docLink);\n",
              "        }\n",
              "      </script>\n",
              "    </div>\n",
              "  </div>\n",
              "  "
            ]
          },
          "metadata": {},
          "execution_count": 45
        }
      ]
    },
    {
      "cell_type": "markdown",
      "source": [
        "**Training the model**"
      ],
      "metadata": {
        "id": "-gHmbYVpcD8G"
      }
    },
    {
      "cell_type": "code",
      "source": [
        "def train_model(model, X_train,X_test,y_train,y_test, model_name):\n",
        "  model.fit(X_train, y_train)\n",
        "  accuracy = round(model.score(X_test, y_test) * 100, 2)\n",
        "  print(f\"Accuracy for the {model_name} model: {accuracy} %\")"
      ],
      "metadata": {
        "id": "ctAzZqAqpQKZ"
      },
      "execution_count": null,
      "outputs": []
    },
    {
      "cell_type": "code",
      "source": [
        "ignored_fields = ['type','posts','cleaned_post']\n",
        "X = mbti_data.drop(ignored_fields, axis=1).values\n",
        "y = mbti_data['type'].values\n",
        "X_train,X_test,y_train,y_test = train_test_split(X,y,test_size = 0.2, random_state=42)"
      ],
      "metadata": {
        "id": "ChCuOsQ_GZpg"
      },
      "execution_count": null,
      "outputs": []
    },
    {
      "cell_type": "code",
      "source": [
        "random_forest = RandomForestClassifier()\n",
        "train_model(random_forest,X_train,X_test,y_train,y_test,'Random Forest')"
      ],
      "metadata": {
        "colab": {
          "base_uri": "https://localhost:8080/"
        },
        "id": "YHh3YbbuGwvf",
        "outputId": "22875379-d69a-42f1-9521-eb4e326477fb"
      },
      "execution_count": null,
      "outputs": [
        {
          "output_type": "stream",
          "name": "stdout",
          "text": [
            "Accuracy for the Random Forest model: 22.54 %\n"
          ]
        }
      ]
    },
    {
      "cell_type": "code",
      "source": [
        "knn = KNeighborsClassifier(n_neighbors = 41) # 41 is sqrt(x_test)\n",
        "train_model(knn,X_train,X_test,y_train,y_test,'K Nearest Neighbour')"
      ],
      "metadata": {
        "colab": {
          "base_uri": "https://localhost:8080/"
        },
        "id": "EBfP4DiaPL3b",
        "outputId": "9c298a2e-9e49-4273-dbdd-ce7779bef9f1"
      },
      "execution_count": null,
      "outputs": [
        {
          "output_type": "stream",
          "name": "stdout",
          "text": [
            "Accuracy for the K Nearest Neighbour model: 19.31 %\n"
          ]
        }
      ]
    },
    {
      "cell_type": "code",
      "source": [
        "log_reg = LogisticRegression(max_iter=1000)\n",
        "pipe = make_pipeline(StandardScaler(), LogisticRegression(max_iter=1000))\n",
        "train_model(pipe,X_train,X_test,y_train,y_test,'Logistic regression')"
      ],
      "metadata": {
        "colab": {
          "base_uri": "https://localhost:8080/"
        },
        "id": "d0lHHfLXPeo3",
        "outputId": "fd72fe9c-c6ad-4364-ee60-7cc3978d8e5c"
      },
      "execution_count": null,
      "outputs": [
        {
          "output_type": "stream",
          "name": "stdout",
          "text": [
            "Accuracy for the Logistic regression model: 25.82 %\n"
          ]
        }
      ]
    },
    {
      "cell_type": "code",
      "source": [
        "ann = MLPClassifier(hidden_layer_sizes=(150,100,50), random_state=555, max_iter=300)\n",
        "train_model(ann,X_train,X_test,y_train,y_test,'Artifical Neural Networks')"
      ],
      "metadata": {
        "colab": {
          "base_uri": "https://localhost:8080/"
        },
        "id": "HoVUGvQrPnGm",
        "outputId": "5128ab46-27f6-48e7-ed9b-1e3decc5613d"
      },
      "execution_count": null,
      "outputs": [
        {
          "output_type": "stream",
          "name": "stdout",
          "text": [
            "Accuracy for the Artifical Neural Networks model: 22.25 %\n"
          ]
        }
      ]
    },
    {
      "cell_type": "code",
      "source": [
        "gnb = GaussianNB()\n",
        "train_model(gnb,X_train,X_test,y_train,y_test,'Naive Bayes')"
      ],
      "metadata": {
        "colab": {
          "base_uri": "https://localhost:8080/"
        },
        "id": "HfzfKDiYP17j",
        "outputId": "ef67720c-b260-4d94-e942-447fc920a7a6"
      },
      "execution_count": null,
      "outputs": [
        {
          "output_type": "stream",
          "name": "stdout",
          "text": [
            "Accuracy for the Naive Bayes model: 16.31 %\n"
          ]
        }
      ]
    },
    {
      "cell_type": "code",
      "source": [
        "svclassifier = SVC(kernel='linear')\n",
        "train_model(svclassifier,X_train,X_test,y_train,y_test,'Support Vector')"
      ],
      "metadata": {
        "id": "_CIelO5AP8yb"
      },
      "execution_count": null,
      "outputs": []
    },
    {
      "cell_type": "markdown",
      "source": [
        "**Categorizing into the I_E, N_S, T_F, J_P** \\\\\n",
        "Introvert  -  Extrovert = I_E \\\\\n",
        "Intuition  -  Sensing   = N_S \\\\\n",
        "Feeling    -  Thinking  = T_F \\\\\n",
        "Perceiving -  Judging   = J_P "
      ],
      "metadata": {
        "id": "N7SvIaZrZPF_"
      }
    },
    {
      "cell_type": "code",
      "source": [
        "def find_type_val(type):\n",
        "  if type == 'I' or type == 'N' or type == 'T'or type == 'J':\n",
        "    return 0\n",
        "  if type == 'E' or type == 'S' or type == 'F'or type == 'P':\n",
        "    return 1"
      ],
      "metadata": {
        "id": "Sm0wdMZgQq8D"
      },
      "execution_count": null,
      "outputs": []
    },
    {
      "cell_type": "code",
      "source": [
        "mbti_data['I_E'] = mbti_data['type'].apply(lambda x : find_type_val(x[0]))\n",
        "mbti_data['N_S'] = mbti_data['type'].apply(lambda x : find_type_val(x[1]))\n",
        "mbti_data['T_F'] = mbti_data['type'].apply(lambda x : find_type_val(x[2]))\n",
        "mbti_data['J_P'] = mbti_data['type'].apply(lambda x : find_type_val(x[3]))"
      ],
      "metadata": {
        "id": "M9ROCao3P852"
      },
      "execution_count": null,
      "outputs": []
    },
    {
      "cell_type": "code",
      "source": [
        "def create_train_test_data(removal_list,y_label):\n",
        "  X = mbti_data.drop(removal_list, axis=1).values\n",
        "  y = mbti_data[y_label].values\n",
        "  X_train,X_test,y_train,y_test = train_test_split(X,y,test_size = 0.2, random_state=5)\n",
        "  return X_train,X_test,y_train,y_test"
      ],
      "metadata": {
        "id": "oGmiXL4nix3G"
      },
      "execution_count": null,
      "outputs": []
    },
    {
      "cell_type": "code",
      "source": [
        "removal_list = ['type','posts','cleaned_post','I_E','N_S','T_F','J_P',\n",
        "                'happy_emoji_per_comment', 'sad_emoji_per_comment', 'positive_emoji_per_comment', \n",
        "                'negative_emoji_per_comment', 'neutral_emoji_per_comment']\n",
        "\n",
        "X_IE_train,X_IE_test,y_IE_train,y_IE_test = create_train_test_data(removal_list,'I_E')\n",
        "\n",
        "# Intuition vs Sensing\n",
        "X_NS_train,X_NS_test,y_NS_train,y_NS_test = create_train_test_data(removal_list,'N_S')\n",
        "\n",
        "# Thinking - Feeling\n",
        "X_TF_train,X_TF_test,y_TF_train,y_TF_test = create_train_test_data(removal_list,'T_F')\n",
        "\n",
        "# Judging - Percieiving\n",
        "X_JP_train,X_JP_test,y_JP_train,y_JP_test = create_train_test_data(removal_list,'J_P')"
      ],
      "metadata": {
        "id": "IX0QA49cZnCq"
      },
      "execution_count": null,
      "outputs": []
    },
    {
      "cell_type": "code",
      "source": [
        "def train_model_individual(model,X_train,X_test,y_train,y_test,model_name):\n",
        "  model.fit(X_train, y_train)\n",
        "  accuracy = round(model.score(X_test, y_test) * 100, 2)\n",
        "  print(f\"Accuracy for the {model_name} model: {accuracy} %\")\n",
        "  return model,accuracy"
      ],
      "metadata": {
        "id": "LZekVERJjl7m"
      },
      "execution_count": null,
      "outputs": []
    },
    {
      "cell_type": "code",
      "source": [
        "def train_all_models(model,model_name):\n",
        "  IE_Model = model\n",
        "  NS_Model = clone(model)\n",
        "  TF_Model = clone(model)\n",
        "  JP_Model = clone(model)\n",
        "  IE_Model,IE_accuracy = train_model_individual(IE_Model,X_IE_train,X_IE_test,y_IE_train,y_IE_test,\"I_E \"+model_name)\n",
        "  NS_Model,NS_accuracy = train_model_individual(NS_Model,X_NS_train,X_NS_test,y_NS_train,y_NS_test,\"N_S \"+model_name)\n",
        "  TF_Model,TF_accuracy = train_model_individual(TF_Model,X_TF_train,X_TF_test,y_TF_train,y_TF_test,\"T_F \"+model_name)\n",
        "  JP_Model,JP_accuracy = train_model_individual(JP_Model,X_JP_train,X_JP_test,y_JP_train,y_JP_test,\"J_P \"+model_name)\n",
        "\n",
        "  mean_accuracy = round((IE_accuracy + NS_accuracy + TF_accuracy + JP_accuracy)/4, 2)\n",
        "\n",
        "  print(f\"Mean Accuracy of {model_name} model: {mean_accuracy} %\")\n",
        "\n",
        "  len_X_test = len(X_IE_test)\n",
        "  predicted = np.concatenate((np.array(IE_Model.predict(X_IE_test)),\n",
        "                              np.array(NS_Model.predict(X_NS_test)),\n",
        "                              np.array(TF_Model.predict(X_TF_test)),\n",
        "                              np.array(JP_Model.predict(X_JP_test))))\n",
        "  predicted = np.reshape(predicted,(len_X_test,4))\n",
        "\n",
        "  y_total = np.concatenate((np.array(y_IE_test),np.array(y_NS_test),np.array(y_TF_test),np.array(y_JP_test)))\n",
        "  y_total = np.reshape(y_total,(len_X_test,4))\n",
        "\n",
        "  acc = predicted == y_total\n",
        "  complete = np.sum(acc,axis=1)\n",
        "  total_accuracy = round((sum(complete == 4) / records_count)*100, 2)\n",
        "\n",
        "  print(f\"Total Accuracy for {model_name} model: {total_accuracy} %\")\n",
        "\n",
        "  return [IE_accuracy,NS_accuracy,TF_accuracy,JP_accuracy,mean_accuracy,total_accuracy]"
      ],
      "metadata": {
        "id": "WVIJRxgPxdiL"
      },
      "execution_count": null,
      "outputs": []
    },
    {
      "cell_type": "code",
      "source": [
        "ANN_Model = MLPClassifier(hidden_layer_sizes=(150,100,50),learning_rate='adaptive', random_state=555, max_iter=1000)\n",
        "ANN_evaluations = train_all_models(ANN_Model,'Artificial neural networks')"
      ],
      "metadata": {
        "colab": {
          "base_uri": "https://localhost:8080/"
        },
        "id": "MnbifbHu58Pk",
        "outputId": "4334c6f9-2e25-4492-f793-024d478d811b"
      },
      "execution_count": null,
      "outputs": [
        {
          "output_type": "stream",
          "name": "stdout",
          "text": [
            "Accuracy for the I_E Artificial neural networks model: 77.64 %\n",
            "Accuracy for the N_S Artificial neural networks model: 86.86 %\n",
            "Accuracy for the T_F Artificial neural networks model: 45.07 %\n",
            "Accuracy for the J_P Artificial neural networks model: 58.39 %\n",
            "Mean Accuracy of Artificial neural networks model: 66.99 %\n",
            "Total Accuracy for Artificial neural networks model: 28.01 %\n"
          ]
        }
      ]
    },
    {
      "cell_type": "code",
      "source": [
        "random_forest = RandomForestClassifier()\n",
        "random_forest_evaluations = train_all_models(random_forest,'Random Forest')"
      ],
      "metadata": {
        "colab": {
          "base_uri": "https://localhost:8080/"
        },
        "id": "5G9nHam86xBy",
        "outputId": "23ccc2cb-9604-4ebc-dae1-874c75a4af25"
      },
      "execution_count": null,
      "outputs": [
        {
          "output_type": "stream",
          "name": "stdout",
          "text": [
            "Accuracy for the I_E Random Forest model: 77.0 %\n",
            "Accuracy for the N_S Random Forest model: 86.74 %\n",
            "Accuracy for the T_F Random Forest model: 65.42 %\n",
            "Accuracy for the J_P Random Forest model: 57.29 %\n",
            "Mean Accuracy of Random Forest model: 71.61 %\n",
            "Total Accuracy for Random Forest model: 30.95 %\n"
          ]
        }
      ]
    },
    {
      "cell_type": "code",
      "source": [
        "knn_model = KNeighborsClassifier(n_neighbors = 41)\n",
        "knn_evaluations = train_all_models(knn_model,'K Nearest Neighbour')"
      ],
      "metadata": {
        "colab": {
          "base_uri": "https://localhost:8080/"
        },
        "id": "sDehoMla7A5u",
        "outputId": "706b6cd8-8606-4e45-c1cc-e05077b49b3a"
      },
      "execution_count": null,
      "outputs": [
        {
          "output_type": "stream",
          "name": "stdout",
          "text": [
            "Accuracy for the I_E K Nearest Neighbour model: 77.64 %\n",
            "Accuracy for the N_S K Nearest Neighbour model: 86.86 %\n",
            "Accuracy for the T_F K Nearest Neighbour model: 54.52 %\n",
            "Accuracy for the J_P K Nearest Neighbour model: 58.56 %\n",
            "Mean Accuracy of K Nearest Neighbour model: 69.4 %\n",
            "Total Accuracy for K Nearest Neighbour model: 29.8 %\n"
          ]
        }
      ]
    },
    {
      "cell_type": "code",
      "source": [
        "log_model = LogisticRegression(solver='lbfgs', max_iter=1000)\n",
        "log_reg_evaluations = train_all_models(log_model,'Logistic regression')"
      ],
      "metadata": {
        "colab": {
          "base_uri": "https://localhost:8080/"
        },
        "id": "oNhmrgdO7WSh",
        "outputId": "2518cd3a-8196-4a63-9889-a0656b601758"
      },
      "execution_count": null,
      "outputs": [
        {
          "output_type": "stream",
          "name": "stdout",
          "text": [
            "Accuracy for the I_E Logistic regression model: 77.41 %\n",
            "Accuracy for the N_S Logistic regression model: 86.86 %\n",
            "Accuracy for the T_F Logistic regression model: 66.97 %\n",
            "Accuracy for the J_P Logistic regression model: 60.12 %\n",
            "Mean Accuracy of Logistic regression model: 72.84 %\n",
            "Total Accuracy for Logistic regression model: 33.49 %\n"
          ]
        }
      ]
    },
    {
      "cell_type": "code",
      "source": [
        "gnb_model = GaussianNB()\n",
        "naive_bayes_evaluations = train_all_models(gnb_model,'Logistic regression')"
      ],
      "metadata": {
        "colab": {
          "base_uri": "https://localhost:8080/"
        },
        "id": "9FiHLK3w7kH1",
        "outputId": "ec4735cb-dc09-4601-a134-769ad1e8d9db"
      },
      "execution_count": null,
      "outputs": [
        {
          "output_type": "stream",
          "name": "stdout",
          "text": [
            "Accuracy for the I_E Logistic regression model: 74.7 %\n",
            "Accuracy for the N_S Logistic regression model: 81.67 %\n",
            "Accuracy for the T_F Logistic regression model: 64.27 %\n",
            "Accuracy for the J_P Logistic regression model: 57.12 %\n",
            "Mean Accuracy of Logistic regression model: 69.44 %\n",
            "Total Accuracy for Logistic regression model: 25.48 %\n"
          ]
        }
      ]
    },
    {
      "cell_type": "code",
      "source": [
        "svclassifier = SVC(kernel='linear')\n",
        "svc_evaluations = train_all_models(svclassifier,'SVC Classifier')"
      ],
      "metadata": {
        "colab": {
          "base_uri": "https://localhost:8080/"
        },
        "id": "cwgHuIwE7vva",
        "outputId": "77cc5add-7a0f-4c74-d00c-a8a9a3876621"
      },
      "execution_count": null,
      "outputs": [
        {
          "output_type": "stream",
          "name": "stdout",
          "text": [
            "Accuracy for the I_E SVC Classifier model: 77.58 %\n",
            "Accuracy for the N_S SVC Classifier model: 86.86 %\n",
            "Accuracy for the T_F SVC Classifier model: 66.97 %\n",
            "Accuracy for the J_P SVC Classifier model: 60.29 %\n",
            "Mean Accuracy of SVC Classifier model: 72.92 %\n",
            "Total Accuracy for SVC Classifier model: 33.26 %\n"
          ]
        }
      ]
    },
    {
      "cell_type": "code",
      "source": [
        "# bars1 = [acc_ANN_IE , acc_ANN_NS , acc_ANN_TF , acc_ANN_JP, mean_acc_ann, act_acc_ann]\n",
        "# bars2 = [acc_random_forest_IE , acc_random_forest_NS , acc_random_forest_TF , acc_random_forest_JP, mean_acc_random_forest, act_rf_ann]\n",
        "# bars3 = [acc_knn_IE , acc_knn_NS , acc_knn_TF , acc_knn_JP, mean_acc_knn, act_knn_ann]\n",
        "# bars4 = [acc_log_IE , acc_log_NS , acc_log_TF , acc_log_JP, mean_acc_log, act_log_ann]\n",
        "# bars5 = [acc_nb_IE , acc_nb_NS , acc_nb_TF , acc_nb_JP, mean_acc_gnb, act_nb_ann]\n",
        "# bars6 = [acc_svc_IE , acc_svc_NS , acc_svc_TF , acc_svc_JP, mean_acc_svc, act_svc_ann]\n",
        "\n",
        "x = ['I-E', 'N-S', 'T-F', 'J-P', 'mean', 'actual']\n",
        "  \n",
        "plot = px.Figure(data=[\n",
        "    go.Bar(name = 'ANN', x = x, y = ANN_evaluations),\n",
        "    go.Bar(name = 'Random Forest', x = x, y = random_forest_evaluations),\n",
        "    go.Bar(name = 'KNN', x = x, y = knn_evaluations),\n",
        "    go.Bar(name = 'Logistic Regression', x = x, y = log_reg_evaluations),\n",
        "    go.Bar(name = 'Naive Bayes', x = x, y = naive_bayes_evaluations),\n",
        "    go.Bar(name = 'SVM', x = x, y = svc_evaluations),\n",
        "])\n",
        "                   \n",
        "plot.show()"
      ],
      "metadata": {
        "colab": {
          "base_uri": "https://localhost:8080/",
          "height": 542
        },
        "id": "6AYciHRfeEBV",
        "outputId": "fec73ab4-1bb2-4da9-ecbd-03cafc127221"
      },
      "execution_count": null,
      "outputs": [
        {
          "output_type": "display_data",
          "data": {
            "text/html": [
              "<html>\n",
              "<head><meta charset=\"utf-8\" /></head>\n",
              "<body>\n",
              "    <div>            <script src=\"https://cdnjs.cloudflare.com/ajax/libs/mathjax/2.7.5/MathJax.js?config=TeX-AMS-MML_SVG\"></script><script type=\"text/javascript\">if (window.MathJax) {MathJax.Hub.Config({SVG: {font: \"STIX-Web\"}});}</script>                <script type=\"text/javascript\">window.PlotlyConfig = {MathJaxConfig: 'local'};</script>\n",
              "        <script src=\"https://cdn.plot.ly/plotly-2.8.3.min.js\"></script>                <div id=\"2b32afc2-807d-4a6d-8781-ddbbb2c06b5b\" class=\"plotly-graph-div\" style=\"height:525px; width:100%;\"></div>            <script type=\"text/javascript\">                                    window.PLOTLYENV=window.PLOTLYENV || {};                                    if (document.getElementById(\"2b32afc2-807d-4a6d-8781-ddbbb2c06b5b\")) {                    Plotly.newPlot(                        \"2b32afc2-807d-4a6d-8781-ddbbb2c06b5b\",                        [{\"name\":\"ANN\",\"x\":[\"I-E\",\"N-S\",\"T-F\",\"J-P\",\"mean\",\"actual\"],\"y\":[77.64,86.86,45.07,58.39,66.99,28.01],\"type\":\"bar\"},{\"name\":\"Random Forest\",\"x\":[\"I-E\",\"N-S\",\"T-F\",\"J-P\",\"mean\",\"actual\"],\"y\":[77.0,86.74,65.42,57.29,71.61,30.95],\"type\":\"bar\"},{\"name\":\"KNN\",\"x\":[\"I-E\",\"N-S\",\"T-F\",\"J-P\",\"mean\",\"actual\"],\"y\":[77.64,86.86,54.52,58.56,69.4,29.8],\"type\":\"bar\"},{\"name\":\"Logistic Regression\",\"x\":[\"I-E\",\"N-S\",\"T-F\",\"J-P\",\"mean\",\"actual\"],\"y\":[77.41,86.86,66.97,60.12,72.84,33.49],\"type\":\"bar\"},{\"name\":\"Naive Bayes\",\"x\":[\"I-E\",\"N-S\",\"T-F\",\"J-P\",\"mean\",\"actual\"],\"y\":[74.7,81.67,64.27,57.12,69.44,25.48],\"type\":\"bar\"},{\"name\":\"SVM\",\"x\":[\"I-E\",\"N-S\",\"T-F\",\"J-P\",\"mean\",\"actual\"],\"y\":[77.58,86.86,66.97,60.29,72.92,33.26],\"type\":\"bar\"}],                        {\"template\":{\"data\":{\"bar\":[{\"error_x\":{\"color\":\"#2a3f5f\"},\"error_y\":{\"color\":\"#2a3f5f\"},\"marker\":{\"line\":{\"color\":\"#E5ECF6\",\"width\":0.5},\"pattern\":{\"fillmode\":\"overlay\",\"size\":10,\"solidity\":0.2}},\"type\":\"bar\"}],\"barpolar\":[{\"marker\":{\"line\":{\"color\":\"#E5ECF6\",\"width\":0.5},\"pattern\":{\"fillmode\":\"overlay\",\"size\":10,\"solidity\":0.2}},\"type\":\"barpolar\"}],\"carpet\":[{\"aaxis\":{\"endlinecolor\":\"#2a3f5f\",\"gridcolor\":\"white\",\"linecolor\":\"white\",\"minorgridcolor\":\"white\",\"startlinecolor\":\"#2a3f5f\"},\"baxis\":{\"endlinecolor\":\"#2a3f5f\",\"gridcolor\":\"white\",\"linecolor\":\"white\",\"minorgridcolor\":\"white\",\"startlinecolor\":\"#2a3f5f\"},\"type\":\"carpet\"}],\"choropleth\":[{\"colorbar\":{\"outlinewidth\":0,\"ticks\":\"\"},\"type\":\"choropleth\"}],\"contour\":[{\"colorbar\":{\"outlinewidth\":0,\"ticks\":\"\"},\"colorscale\":[[0.0,\"#0d0887\"],[0.1111111111111111,\"#46039f\"],[0.2222222222222222,\"#7201a8\"],[0.3333333333333333,\"#9c179e\"],[0.4444444444444444,\"#bd3786\"],[0.5555555555555556,\"#d8576b\"],[0.6666666666666666,\"#ed7953\"],[0.7777777777777778,\"#fb9f3a\"],[0.8888888888888888,\"#fdca26\"],[1.0,\"#f0f921\"]],\"type\":\"contour\"}],\"contourcarpet\":[{\"colorbar\":{\"outlinewidth\":0,\"ticks\":\"\"},\"type\":\"contourcarpet\"}],\"heatmap\":[{\"colorbar\":{\"outlinewidth\":0,\"ticks\":\"\"},\"colorscale\":[[0.0,\"#0d0887\"],[0.1111111111111111,\"#46039f\"],[0.2222222222222222,\"#7201a8\"],[0.3333333333333333,\"#9c179e\"],[0.4444444444444444,\"#bd3786\"],[0.5555555555555556,\"#d8576b\"],[0.6666666666666666,\"#ed7953\"],[0.7777777777777778,\"#fb9f3a\"],[0.8888888888888888,\"#fdca26\"],[1.0,\"#f0f921\"]],\"type\":\"heatmap\"}],\"heatmapgl\":[{\"colorbar\":{\"outlinewidth\":0,\"ticks\":\"\"},\"colorscale\":[[0.0,\"#0d0887\"],[0.1111111111111111,\"#46039f\"],[0.2222222222222222,\"#7201a8\"],[0.3333333333333333,\"#9c179e\"],[0.4444444444444444,\"#bd3786\"],[0.5555555555555556,\"#d8576b\"],[0.6666666666666666,\"#ed7953\"],[0.7777777777777778,\"#fb9f3a\"],[0.8888888888888888,\"#fdca26\"],[1.0,\"#f0f921\"]],\"type\":\"heatmapgl\"}],\"histogram\":[{\"marker\":{\"pattern\":{\"fillmode\":\"overlay\",\"size\":10,\"solidity\":0.2}},\"type\":\"histogram\"}],\"histogram2d\":[{\"colorbar\":{\"outlinewidth\":0,\"ticks\":\"\"},\"colorscale\":[[0.0,\"#0d0887\"],[0.1111111111111111,\"#46039f\"],[0.2222222222222222,\"#7201a8\"],[0.3333333333333333,\"#9c179e\"],[0.4444444444444444,\"#bd3786\"],[0.5555555555555556,\"#d8576b\"],[0.6666666666666666,\"#ed7953\"],[0.7777777777777778,\"#fb9f3a\"],[0.8888888888888888,\"#fdca26\"],[1.0,\"#f0f921\"]],\"type\":\"histogram2d\"}],\"histogram2dcontour\":[{\"colorbar\":{\"outlinewidth\":0,\"ticks\":\"\"},\"colorscale\":[[0.0,\"#0d0887\"],[0.1111111111111111,\"#46039f\"],[0.2222222222222222,\"#7201a8\"],[0.3333333333333333,\"#9c179e\"],[0.4444444444444444,\"#bd3786\"],[0.5555555555555556,\"#d8576b\"],[0.6666666666666666,\"#ed7953\"],[0.7777777777777778,\"#fb9f3a\"],[0.8888888888888888,\"#fdca26\"],[1.0,\"#f0f921\"]],\"type\":\"histogram2dcontour\"}],\"mesh3d\":[{\"colorbar\":{\"outlinewidth\":0,\"ticks\":\"\"},\"type\":\"mesh3d\"}],\"parcoords\":[{\"line\":{\"colorbar\":{\"outlinewidth\":0,\"ticks\":\"\"}},\"type\":\"parcoords\"}],\"pie\":[{\"automargin\":true,\"type\":\"pie\"}],\"scatter\":[{\"marker\":{\"colorbar\":{\"outlinewidth\":0,\"ticks\":\"\"}},\"type\":\"scatter\"}],\"scatter3d\":[{\"line\":{\"colorbar\":{\"outlinewidth\":0,\"ticks\":\"\"}},\"marker\":{\"colorbar\":{\"outlinewidth\":0,\"ticks\":\"\"}},\"type\":\"scatter3d\"}],\"scattercarpet\":[{\"marker\":{\"colorbar\":{\"outlinewidth\":0,\"ticks\":\"\"}},\"type\":\"scattercarpet\"}],\"scattergeo\":[{\"marker\":{\"colorbar\":{\"outlinewidth\":0,\"ticks\":\"\"}},\"type\":\"scattergeo\"}],\"scattergl\":[{\"marker\":{\"colorbar\":{\"outlinewidth\":0,\"ticks\":\"\"}},\"type\":\"scattergl\"}],\"scattermapbox\":[{\"marker\":{\"colorbar\":{\"outlinewidth\":0,\"ticks\":\"\"}},\"type\":\"scattermapbox\"}],\"scatterpolar\":[{\"marker\":{\"colorbar\":{\"outlinewidth\":0,\"ticks\":\"\"}},\"type\":\"scatterpolar\"}],\"scatterpolargl\":[{\"marker\":{\"colorbar\":{\"outlinewidth\":0,\"ticks\":\"\"}},\"type\":\"scatterpolargl\"}],\"scatterternary\":[{\"marker\":{\"colorbar\":{\"outlinewidth\":0,\"ticks\":\"\"}},\"type\":\"scatterternary\"}],\"surface\":[{\"colorbar\":{\"outlinewidth\":0,\"ticks\":\"\"},\"colorscale\":[[0.0,\"#0d0887\"],[0.1111111111111111,\"#46039f\"],[0.2222222222222222,\"#7201a8\"],[0.3333333333333333,\"#9c179e\"],[0.4444444444444444,\"#bd3786\"],[0.5555555555555556,\"#d8576b\"],[0.6666666666666666,\"#ed7953\"],[0.7777777777777778,\"#fb9f3a\"],[0.8888888888888888,\"#fdca26\"],[1.0,\"#f0f921\"]],\"type\":\"surface\"}],\"table\":[{\"cells\":{\"fill\":{\"color\":\"#EBF0F8\"},\"line\":{\"color\":\"white\"}},\"header\":{\"fill\":{\"color\":\"#C8D4E3\"},\"line\":{\"color\":\"white\"}},\"type\":\"table\"}]},\"layout\":{\"annotationdefaults\":{\"arrowcolor\":\"#2a3f5f\",\"arrowhead\":0,\"arrowwidth\":1},\"autotypenumbers\":\"strict\",\"coloraxis\":{\"colorbar\":{\"outlinewidth\":0,\"ticks\":\"\"}},\"colorscale\":{\"diverging\":[[0,\"#8e0152\"],[0.1,\"#c51b7d\"],[0.2,\"#de77ae\"],[0.3,\"#f1b6da\"],[0.4,\"#fde0ef\"],[0.5,\"#f7f7f7\"],[0.6,\"#e6f5d0\"],[0.7,\"#b8e186\"],[0.8,\"#7fbc41\"],[0.9,\"#4d9221\"],[1,\"#276419\"]],\"sequential\":[[0.0,\"#0d0887\"],[0.1111111111111111,\"#46039f\"],[0.2222222222222222,\"#7201a8\"],[0.3333333333333333,\"#9c179e\"],[0.4444444444444444,\"#bd3786\"],[0.5555555555555556,\"#d8576b\"],[0.6666666666666666,\"#ed7953\"],[0.7777777777777778,\"#fb9f3a\"],[0.8888888888888888,\"#fdca26\"],[1.0,\"#f0f921\"]],\"sequentialminus\":[[0.0,\"#0d0887\"],[0.1111111111111111,\"#46039f\"],[0.2222222222222222,\"#7201a8\"],[0.3333333333333333,\"#9c179e\"],[0.4444444444444444,\"#bd3786\"],[0.5555555555555556,\"#d8576b\"],[0.6666666666666666,\"#ed7953\"],[0.7777777777777778,\"#fb9f3a\"],[0.8888888888888888,\"#fdca26\"],[1.0,\"#f0f921\"]]},\"colorway\":[\"#636efa\",\"#EF553B\",\"#00cc96\",\"#ab63fa\",\"#FFA15A\",\"#19d3f3\",\"#FF6692\",\"#B6E880\",\"#FF97FF\",\"#FECB52\"],\"font\":{\"color\":\"#2a3f5f\"},\"geo\":{\"bgcolor\":\"white\",\"lakecolor\":\"white\",\"landcolor\":\"#E5ECF6\",\"showlakes\":true,\"showland\":true,\"subunitcolor\":\"white\"},\"hoverlabel\":{\"align\":\"left\"},\"hovermode\":\"closest\",\"mapbox\":{\"style\":\"light\"},\"paper_bgcolor\":\"white\",\"plot_bgcolor\":\"#E5ECF6\",\"polar\":{\"angularaxis\":{\"gridcolor\":\"white\",\"linecolor\":\"white\",\"ticks\":\"\"},\"bgcolor\":\"#E5ECF6\",\"radialaxis\":{\"gridcolor\":\"white\",\"linecolor\":\"white\",\"ticks\":\"\"}},\"scene\":{\"xaxis\":{\"backgroundcolor\":\"#E5ECF6\",\"gridcolor\":\"white\",\"gridwidth\":2,\"linecolor\":\"white\",\"showbackground\":true,\"ticks\":\"\",\"zerolinecolor\":\"white\"},\"yaxis\":{\"backgroundcolor\":\"#E5ECF6\",\"gridcolor\":\"white\",\"gridwidth\":2,\"linecolor\":\"white\",\"showbackground\":true,\"ticks\":\"\",\"zerolinecolor\":\"white\"},\"zaxis\":{\"backgroundcolor\":\"#E5ECF6\",\"gridcolor\":\"white\",\"gridwidth\":2,\"linecolor\":\"white\",\"showbackground\":true,\"ticks\":\"\",\"zerolinecolor\":\"white\"}},\"shapedefaults\":{\"line\":{\"color\":\"#2a3f5f\"}},\"ternary\":{\"aaxis\":{\"gridcolor\":\"white\",\"linecolor\":\"white\",\"ticks\":\"\"},\"baxis\":{\"gridcolor\":\"white\",\"linecolor\":\"white\",\"ticks\":\"\"},\"bgcolor\":\"#E5ECF6\",\"caxis\":{\"gridcolor\":\"white\",\"linecolor\":\"white\",\"ticks\":\"\"}},\"title\":{\"x\":0.05},\"xaxis\":{\"automargin\":true,\"gridcolor\":\"white\",\"linecolor\":\"white\",\"ticks\":\"\",\"title\":{\"standoff\":15},\"zerolinecolor\":\"white\",\"zerolinewidth\":2},\"yaxis\":{\"automargin\":true,\"gridcolor\":\"white\",\"linecolor\":\"white\",\"ticks\":\"\",\"title\":{\"standoff\":15},\"zerolinecolor\":\"white\",\"zerolinewidth\":2}}}},                        {\"responsive\": true}                    ).then(function(){\n",
              "                            \n",
              "var gd = document.getElementById('2b32afc2-807d-4a6d-8781-ddbbb2c06b5b');\n",
              "var x = new MutationObserver(function (mutations, observer) {{\n",
              "        var display = window.getComputedStyle(gd).display;\n",
              "        if (!display || display === 'none') {{\n",
              "            console.log([gd, 'removed!']);\n",
              "            Plotly.purge(gd);\n",
              "            observer.disconnect();\n",
              "        }}\n",
              "}});\n",
              "\n",
              "// Listen for the removal of the full notebook cells\n",
              "var notebookContainer = gd.closest('#notebook-container');\n",
              "if (notebookContainer) {{\n",
              "    x.observe(notebookContainer, {childList: true});\n",
              "}}\n",
              "\n",
              "// Listen for the clearing of the current output cell\n",
              "var outputEl = gd.closest('.output');\n",
              "if (outputEl) {{\n",
              "    x.observe(outputEl, {childList: true});\n",
              "}}\n",
              "\n",
              "                        })                };                            </script>        </div>\n",
              "</body>\n",
              "</html>"
            ]
          },
          "metadata": {}
        }
      ]
    },
    {
      "cell_type": "markdown",
      "source": [
        "Using count vectorizer"
      ],
      "metadata": {
        "id": "pTbaEeKRHsTp"
      }
    },
    {
      "cell_type": "code",
      "source": [
        "cv = CountVectorizer().fit(mbti_data['cleaned_post'])\n",
        "X = cv.transform(mbti_data['cleaned_post'])"
      ],
      "metadata": {
        "id": "UFfXNi58GRCv"
      },
      "execution_count": null,
      "outputs": []
    },
    {
      "cell_type": "code",
      "source": [
        "xIETrain, xIETest, yIETrain, yIETest = train_test_split(X, mbti_data['I_E'])\n",
        "xNSTrain, xNSTest, yNSTrain, yNSTest = train_test_split(X, mbti_data['N_S'])\n",
        "xFTTrain, xFTTest, yFTTrain, yFTTest = train_test_split(X, mbti_data['T_F'])\n",
        "xPJTrain, xPJTest, yPJTrain, yPJTest = train_test_split(X, mbti_data['J_P'])"
      ],
      "metadata": {
        "id": "EF7zvRswZxR2"
      },
      "execution_count": null,
      "outputs": []
    },
    {
      "cell_type": "code",
      "source": [
        "from sklearn.naive_bayes import MultinomialNB\n",
        "ieModel = MultinomialNB().fit(xIETrain, yIETrain)\n",
        "nsModel = MultinomialNB().fit(xNSTrain, yNSTrain)\n",
        "ftModel = MultinomialNB().fit(xFTTrain, yFTTrain)\n",
        "pjModel = MultinomialNB().fit(xPJTrain, yPJTrain)"
      ],
      "metadata": {
        "id": "BVcSUoNsa2-3"
      },
      "execution_count": null,
      "outputs": []
    },
    {
      "cell_type": "code",
      "source": [
        "print(ieModel.score(xIETest, yIETest)*100)\n",
        "print(nsModel.score(xNSTest, yNSTest)*100)\n",
        "print(ftModel.score(xFTTest, yFTTest)*100)\n",
        "print(pjModel.score(xPJTest, yPJTest)*100)"
      ],
      "metadata": {
        "colab": {
          "base_uri": "https://localhost:8080/"
        },
        "id": "8KZw7b_obQxm",
        "outputId": "34f84e09-57f5-44d3-9475-3ac325ec5e9d"
      },
      "execution_count": null,
      "outputs": [
        {
          "output_type": "stream",
          "name": "stdout",
          "text": [
            "76.76348547717843\n",
            "84.78561549100968\n",
            "79.02259105578608\n",
            "69.34071000461041\n"
          ]
        }
      ]
    },
    {
      "cell_type": "markdown",
      "source": [
        "The code to the bottom can be removed"
      ],
      "metadata": {
        "id": "45jf0aTmEvws"
      }
    },
    {
      "cell_type": "code",
      "source": [
        "#ANN\n",
        "IE_Model = MLPClassifier(hidden_layer_sizes=(150,100,50),learning_rate='adaptive', random_state=555, max_iter=1000)\n",
        "NS_Model = MLPClassifier(hidden_layer_sizes=(150,100,50),learning_rate='adaptive', random_state=555, max_iter=1000)\n",
        "TF_Model = MLPClassifier(hidden_layer_sizes=(150,100,50),learning_rate='adaptive', random_state=555, max_iter=1000)\n",
        "JP_Model = MLPClassifier(hidden_layer_sizes=(150,100,50),learning_rate='adaptive', random_state=555, max_iter=1000)\n",
        "\n",
        "model_name = 'Artificial neural networks'\n",
        "IE_Model,IE_ANN_accuracy = train_model_individual(IE_Model,X_IE_train,X_IE_test,y_IE_train,y_IE_test,model_name)\n",
        "NS_Model,NS_ANN_accuracy = train_model_individual(NS_Model,X_NS_train,X_NS_test,y_NS_train,y_NS_test,model_name)\n",
        "TF_Model,TF_ANN_accuracy = train_model_individual(TF_Model,X_TF_train,X_TF_test,y_TF_train,y_TF_test,model_name)\n",
        "JP_Model,JP_ANN_accuracy = train_model_individual(JP_Model,X_JP_train,X_JP_test,y_JP_train,y_JP_test,model_name)\n",
        "\n",
        "mean_ANN_accuracy = round((IE_ANN_accuracy + NS_ANN_accuracy + TF_ANN_accuracy + JP_ANN_accuracy)/4, 2)\n",
        "\n",
        "print(\"mean Accuracy: \", mean_ANN_accuracy , \"%\")\n",
        "\n",
        "#records_count = len(X_IE_test)\n",
        "\n",
        "# predicted = np.concatenate((np.array(IEClass.predict(X_IE_test)),np.array(NSClass.predict(X_NS_test)),np.array(TFClass.predict(X_TF_test)),np.array(JPClass.predict(X_JP_test))))\n",
        "# predicted = np.reshape(predicted,(records_count,4))\n",
        "\n",
        "# y_total = np.concatenate((np.array(y_IE_test),np.array(y_NS_test),np.array(y_TF_test),np.array(y_JP_test)))\n",
        "# y_total = np.reshape(y_total,(records_count,4))\n",
        "\n",
        "# acc = predicted == y_total\n",
        "# complete = np.sum(acc,axis=1)\n",
        "# act_acc_ann = round((sum(complete == 4) / records_count)*100, 2)\n",
        "\n",
        "# print(\"Actuall Accuracy (pint to point): \", act_acc_ann, \"%\")"
      ],
      "metadata": {
        "colab": {
          "base_uri": "https://localhost:8080/"
        },
        "id": "3AgDheE9WOMD",
        "outputId": "ed248fff-12d6-4274-d706-d39cbb158065"
      },
      "execution_count": null,
      "outputs": [
        {
          "output_type": "stream",
          "name": "stdout",
          "text": [
            "I-E Accuracy:  77.64 %\n",
            "N-S Accuracy:  86.86 %\n",
            "T-F Accuracy:  45.07 %\n",
            "J-P Accuracy:  58.39 %\n",
            "mean Accuracy:  66.99 %\n",
            "Actuall Accuracy (pint to point):  28.01 %\n",
            "1-miss Accuracy (pint to point):  59.31 %\n"
          ]
        }
      ]
    },
    {
      "cell_type": "code",
      "source": [
        "predicted = np.concatenate((np.array(IEClass.predict(X_IE_test)),np.array(NSClass.predict(X_NS_test)),np.array(TFClass.predict(X_TF_test)),np.array(JPClass.predict(X_JP_test))))\n",
        "predicted = np.reshape(predicted,(records_count,4))\n",
        "jk = predicted == y_total\n",
        "np.sum(jk,axis=1)"
      ],
      "metadata": {
        "colab": {
          "base_uri": "https://localhost:8080/"
        },
        "id": "xLXbUN_3oRZa",
        "outputId": "a1d5b4d2-e241-4bf9-c991-c26c12b0ced1"
      },
      "execution_count": null,
      "outputs": [
        {
          "output_type": "execute_result",
          "data": {
            "text/plain": [
              "array([3, 2, 4, ..., 2, 2, 3])"
            ]
          },
          "metadata": {},
          "execution_count": 30
        }
      ]
    },
    {
      "cell_type": "code",
      "source": [
        "random_forest = RandomForestClassifier()\n",
        "\n",
        "# I-E\n",
        "random_forest.fit(X_IE_train, y_IE_train)\n",
        "acc_random_forest_IE = round(random_forest.score(X_IE_test, y_IE_test) * 100, 2)\n",
        "print(\"I-E Accuracy: \", acc_random_forest_IE, \"%\")\n",
        "\n",
        "iep = np.array(random_forest.predict(X_IE_test))\n",
        "\n",
        "# N-S\n",
        "random_forest.fit(X_IE_train, y_NS_train)\n",
        "acc_random_forest_NS = round(random_forest.score(X_NS_test, y_NS_test) * 100, 2)\n",
        "print(\"N-S Accuracy: \", acc_random_forest_NS, \"%\")\n",
        "\n",
        "nsp = np.array(random_forest.predict(X_NS_test))\n",
        "\n",
        "# T-F\n",
        "random_forest.fit(X_TF_train, y_TF_train)\n",
        "acc_random_forest_TF = round(random_forest.score(X_TF_test, y_TF_test) * 100, 2)\n",
        "print(\"T-F Accuracy: \", acc_random_forest_TF, \"%\")\n",
        "\n",
        "tfp = np.array(random_forest.predict(X_TF_test))\n",
        "\n",
        "# J-P\n",
        "random_forest.fit(X_JP_train, y_JP_train)\n",
        "acc_random_forest_JP = round(random_forest.score(X_JP_test, y_JP_test) * 100, 2)\n",
        "print(\"J-P Accuracy: \", acc_random_forest_JP, \"%\")\n",
        "\n",
        "jpp = np.array(random_forest.predict(X_JP_test))\n",
        "\n",
        "mean_acc_random_forest = (acc_random_forest_IE + acc_random_forest_NS + acc_random_forest_TF + acc_random_forest_JP)/4\n",
        "print(\"mean Accuracy: \", mean_acc_random_forest , \"%\")\n",
        "\n",
        "\n",
        "\n",
        "records_count = len(X_IE_test)\n",
        "\n",
        "predicted = np.concatenate((iep,nsp,tfp,jpp))\n",
        "predicted = np.reshape(predicted,(records_count,4))\n",
        "\n",
        "y_total = np.concatenate((np.array(y_IE_test),np.array(y_NS_test),np.array(y_TF_test),np.array(y_JP_test)))\n",
        "y_total = np.reshape(y_total,(records_count,4))\n",
        "\n",
        "acc = predicted == y_total\n",
        "complete = np.sum(acc,axis=1)\n",
        "\n",
        "act_rf_ann = round((sum(complete == 4) / records_count)*100, 2)\n",
        "\n",
        "print(\"Actuall Accuracy (pint to point): \", act_rf_ann, \"%\")"
      ],
      "metadata": {
        "colab": {
          "base_uri": "https://localhost:8080/"
        },
        "id": "l8OxlQxzaKUm",
        "outputId": "a29a3953-267f-4f5c-f212-72ccd6f9e206"
      },
      "execution_count": null,
      "outputs": [
        {
          "output_type": "stream",
          "name": "stdout",
          "text": [
            "I-E Accuracy:  77.0 %\n",
            "N-S Accuracy:  86.69 %\n",
            "T-F Accuracy:  65.48 %\n",
            "J-P Accuracy:  56.25 %\n",
            "mean Accuracy:  71.355 %\n",
            "Actuall Accuracy (pint to point):  30.55 %\n"
          ]
        }
      ]
    },
    {
      "cell_type": "code",
      "source": [
        "knn = KNeighborsClassifier(n_neighbors = 41)\n",
        "\n",
        "# I-E\n",
        "knn.fit(X_IE_train, y_IE_train)\n",
        "acc_knn_IE = round(knn.score(X_IE_test, y_IE_test) * 100, 2)\n",
        "print(\"I-E Accuracy: \", acc_knn_IE, \"%\")\n",
        "\n",
        "iep = np.array(knn.predict(X_IE_test))\n",
        "\n",
        "# N-S\n",
        "knn.fit(X_NS_train, y_NS_train)\n",
        "acc_knn_NS = round(knn.score(X_NS_test, y_NS_test) * 100, 2)\n",
        "print(\"N-S Accuracy: \", acc_knn_NS, \"%\")\n",
        "\n",
        "nsp = np.array(knn.predict(X_NS_test))\n",
        "\n",
        "# T-F\n",
        "knn.fit(X_TF_train, y_TF_train)\n",
        "acc_knn_TF = round(knn.score(X_TF_test, y_TF_test) * 100, 2)\n",
        "print(\"T-F Accuracy: \", acc_knn_TF, \"%\")\n",
        "\n",
        "tfp = np.array(knn.predict(X_TF_test))\n",
        "\n",
        "# J-P\n",
        "knn.fit(X_JP_train, y_JP_train)\n",
        "acc_knn_JP = round(knn.score(X_JP_test, y_JP_test) * 100, 2)\n",
        "print(\"J-P Accuracy: \", acc_knn_JP, \"%\")\n",
        "\n",
        "jpp = np.array(knn.predict(X_JP_test))\n",
        "\n",
        "mean_acc_knn = (acc_knn_IE + acc_knn_NS + acc_knn_TF + acc_knn_JP)/4\n",
        "print(\"mean Accuracy: \", mean_acc_knn , \"%\")\n",
        "\n",
        "\n",
        "records_count = len(X_IE_test)\n",
        "\n",
        "predicted = np.concatenate((iep,nsp,tfp,jpp))\n",
        "predicted = np.reshape(predicted,(records_count,4))\n",
        "\n",
        "y_total = np.concatenate((np.array(y_IE_test),np.array(y_NS_test),np.array(y_TF_test),np.array(y_JP_test)))\n",
        "y_total = np.reshape(y_total,(records_count,4))\n",
        "\n",
        "acc = predicted == y_total\n",
        "complete = np.sum(acc,axis=1)\n",
        "\n",
        "act_knn_ann = round((sum(complete == 4) / records_count)*100, 2)\n",
        "three_acc_ann = round((sum(complete >= 3) / records_count)*100, 2)\n",
        "\n",
        "print(\"Actuall Accuracy (pint to point): \", act_acc_ann, \"%\")\n",
        "print(\"1-miss Accuracy (pint to point): \", three_acc_ann, \"%\")"
      ],
      "metadata": {
        "colab": {
          "base_uri": "https://localhost:8080/"
        },
        "id": "q2LdTucmab5Y",
        "outputId": "3d58d407-6ca7-4d51-8fc8-e2df2bee7fa7"
      },
      "execution_count": null,
      "outputs": [
        {
          "output_type": "stream",
          "name": "stdout",
          "text": [
            "I-E Accuracy:  77.64 %\n",
            "N-S Accuracy:  86.86 %\n",
            "T-F Accuracy:  54.35 %\n",
            "J-P Accuracy:  58.04 %\n",
            "mean Accuracy:  69.2225 %\n",
            "Actuall Accuracy (pint to point):  31.59 %\n",
            "1-miss Accuracy (pint to point):  61.9 %\n"
          ]
        }
      ]
    },
    {
      "cell_type": "code",
      "source": [
        "log = LogisticRegression(solver='lbfgs', max_iter=1000)\n",
        "\n",
        "# I-E\n",
        "log.fit(X_IE_train, y_IE_train)\n",
        "acc_log_IE = round(log.score(X_IE_test, y_IE_test) * 100, 2)\n",
        "print(\"I-E Accuracy: \", acc_log_IE, \"%\")\n",
        "\n",
        "iep = np.array(log.predict(X_IE_test))\n",
        "\n",
        "# N-S\n",
        "log.fit(X_NS_train, y_NS_train)\n",
        "acc_log_NS = round(log.score(X_NS_test, y_NS_test) * 100, 2)\n",
        "print(\"N-S Accuracy: \", acc_log_NS, \"%\")\n",
        "\n",
        "nsp = np.array(log.predict(X_NS_test))\n",
        "\n",
        "# T-F\n",
        "log.fit(X_TF_train, y_TF_train)\n",
        "acc_log_TF = round(log.score(X_TF_test, y_TF_test) * 100, 2)\n",
        "print(\"T-F Accuracy: \", acc_log_TF, \"%\")\n",
        "\n",
        "tfp = np.array(log.predict(X_TF_test))\n",
        "\n",
        "# J-P\n",
        "log.fit(X_JP_train, y_JP_train)\n",
        "acc_log_JP = round(log.score(X_JP_test, y_JP_test) * 100, 2)\n",
        "print(\"J-P Accuracy: \", acc_log_JP, \"%\")\n",
        "\n",
        "jpp = np.array(log.predict(X_JP_test))\n",
        "\n",
        "mean_acc_log = (acc_log_IE + acc_log_NS + acc_log_TF + acc_log_JP)/4\n",
        "print(\"mean Accuracy: \", mean_acc_log , \"%\")\n",
        "\n",
        "records_count = len(X_IE_test)\n",
        "\n",
        "predicted = np.concatenate((iep,nsp,tfp,jpp))\n",
        "predicted = np.reshape(predicted,(records_count,4))\n",
        "\n",
        "y_total = np.concatenate((np.array(y_IE_test),np.array(y_NS_test),np.array(y_TF_test),np.array(y_JP_test)))\n",
        "y_total = np.reshape(y_total,(records_count,4))\n",
        "\n",
        "acc = predicted == y_total\n",
        "complete = np.sum(acc,axis=1)\n",
        "\n",
        "act_log_ann = round((sum(complete == 4) / records_count)*100, 2)\n",
        "three_acc_ann = round((sum(complete >= 3) / records_count)*100, 2)\n",
        "\n",
        "print(\"Actuall Accuracy (pint to point): \", act_acc_ann, \"%\")\n",
        "print(\"1-miss Accuracy (pint to point): \", three_acc_ann, \"%\")"
      ],
      "metadata": {
        "colab": {
          "base_uri": "https://localhost:8080/"
        },
        "id": "31x4RAYuarLl",
        "outputId": "4c9cf665-2c49-49fb-bbe2-3d4da252e181"
      },
      "execution_count": null,
      "outputs": [
        {
          "output_type": "stream",
          "name": "stdout",
          "text": [
            "I-E Accuracy:  77.18 %\n",
            "N-S Accuracy:  86.86 %\n",
            "T-F Accuracy:  67.26 %\n",
            "J-P Accuracy:  60.17 %\n",
            "mean Accuracy:  72.8675 %\n",
            "Actuall Accuracy (pint to point):  31.59 %\n",
            "1-miss Accuracy (pint to point):  68.3 %\n"
          ]
        }
      ]
    },
    {
      "cell_type": "code",
      "source": [
        "gnb = GaussianNB()\n",
        "\n",
        "# I-E\n",
        "gnb.fit(X_IE_train, y_IE_train)\n",
        "acc_nb_IE = round(gnb.score(X_IE_test, y_IE_test) * 100, 2)\n",
        "print(\"I-E Accuracy:\", acc_nb_IE, \"%\")\n",
        "\n",
        "iep = np.array(gnb.predict(X_IE_test))\n",
        "\n",
        "# N-S\n",
        "gnb.fit(X_NS_train, y_NS_train)\n",
        "acc_nb_NS = round(gnb.score(X_NS_test, y_NS_test) * 100, 2)\n",
        "print(\"N-S Accuracy:\", acc_nb_NS, \"%\")\n",
        "\n",
        "nsp = np.array(gnb.predict(X_NS_test))\n",
        "\n",
        "# T-F\n",
        "gnb.fit(X_TF_train, y_TF_train)\n",
        "acc_nb_TF = round(gnb.score(X_TF_test, y_TF_test) * 100, 2)\n",
        "print(\"T-F Accuracy:\", acc_nb_TF, \"%\")\n",
        "\n",
        "tfp = np.array(gnb.predict(X_TF_test))\n",
        "\n",
        "# J-P\n",
        "gnb.fit(X_JP_train, y_JP_train)\n",
        "acc_nb_JP = round(gnb.score(X_JP_test, y_JP_test) * 100, 2)\n",
        "print(\"J-P Accuracy:\", acc_nb_JP, \"%\")\n",
        "\n",
        "jpp = np.array(gnb.predict(X_JP_test))\n",
        "\n",
        "mean_acc_gnb = (acc_nb_IE + acc_nb_NS + acc_nb_TF + acc_nb_JP)/4\n",
        "print(\"mean Accuracy: \", mean_acc_gnb , \"%\")\n",
        "\n",
        "\n",
        "records_count = len(X_IE_test)\n",
        "\n",
        "predicted = np.concatenate((iep,nsp,tfp,jpp))\n",
        "predicted = np.reshape(predicted,(records_count,4))\n",
        "\n",
        "y_total = np.concatenate((np.array(y_IE_test),np.array(y_NS_test),np.array(y_TF_test),np.array(y_JP_test)))\n",
        "y_total = np.reshape(y_total,(records_count,4))\n",
        "\n",
        "acc = predicted == y_total\n",
        "complete = np.sum(acc,axis=1)\n",
        "\n",
        "act_nb_ann = round((sum(complete == 4) / records_count)*100, 2)\n",
        "three_acc_ann = round((sum(complete >= 3) / records_count)*100, 2)\n",
        "\n",
        "print(\"Actuall Accuracy (pint to point): \", act_acc_ann, \"%\")\n",
        "print(\"1-miss Accuracy (pint to point): \", three_acc_ann, \"%\")"
      ],
      "metadata": {
        "colab": {
          "base_uri": "https://localhost:8080/"
        },
        "id": "qNOjS6KXaz4f",
        "outputId": "cd532622-b2a4-4662-898b-6ef936630268"
      },
      "execution_count": null,
      "outputs": [
        {
          "output_type": "stream",
          "name": "stdout",
          "text": [
            "I-E Accuracy: 75.27 %\n",
            "N-S Accuracy: 81.96 %\n",
            "T-F Accuracy: 65.59 %\n",
            "J-P Accuracy: 56.95 %\n",
            "mean Accuracy:  69.9425 %\n",
            "Actuall Accuracy (pint to point):  31.59 %\n",
            "1-miss Accuracy (pint to point):  65.88 %\n"
          ]
        }
      ]
    },
    {
      "cell_type": "code",
      "source": [
        "svclassifier = SVC(kernel='linear')\n",
        "\n",
        "# I-E\n",
        "svclassifier.fit(X_IE_train, y_IE_train)\n",
        "acc_svc_IE = round(svclassifier.score(X_IE_test, y_IE_test) * 100, 2)\n",
        "print(\"I-E Accuracy:\", acc_nb_IE, \"%\")\n",
        "\n",
        "iep = np.array(svclassifier.predict(X_IE_test))\n",
        "\n",
        "# N-S\n",
        "svclassifier.fit(X_NS_train, y_NS_train)\n",
        "acc_svc_NS = round(svclassifier.score(X_NS_test, y_NS_test) * 100, 2)\n",
        "print(\"N-S Accuracy:\", acc_nb_NS, \"%\")\n",
        "\n",
        "nsp = np.array(svclassifier.predict(X_NS_test))\n",
        "\n",
        "# T-F\n",
        "svclassifier.fit(X_TF_train, y_TF_train)\n",
        "acc_svc_TF = round(svclassifier.score(X_TF_test, y_TF_test) * 100, 2)\n",
        "print(\"T-F Accuracy:\", acc_nb_TF, \"%\")\n",
        "\n",
        "tfp = np.array(svclassifier.predict(X_TF_test))\n",
        "\n",
        "# J-P\n",
        "svclassifier.fit(X_JP_train, y_JP_train)\n",
        "acc_svc_JP = round(svclassifier.score(X_JP_test, y_JP_test) * 100, 2)\n",
        "print(\"J-P Accuracy:\", acc_nb_JP, \"%\")\n",
        "\n",
        "jpp = np.array(svclassifier.predict(X_JP_test))\n",
        "\n",
        "mean_acc_svc = (acc_nb_IE + acc_nb_NS + acc_nb_TF + acc_nb_JP)/4\n",
        "print(\"mean Accuracy: \", mean_acc_svc , \"%\")\n",
        "\n",
        "\n",
        "records_count = len(X_IE_test)\n",
        "\n",
        "predicted = np.concatenate((iep,nsp,tfp,jpp))\n",
        "predicted = np.reshape(predicted,(records_count,4))\n",
        "\n",
        "y_total = np.concatenate((np.array(y_IE_test),np.array(y_NS_test),np.array(y_TF_test),np.array(y_JP_test)))\n",
        "y_total = np.reshape(y_total,(records_count,4))\n",
        "\n",
        "acc = predicted == y_total\n",
        "complete = np.sum(acc,axis=1)\n",
        "\n",
        "act_svc_ann = round((sum(complete == 4) / records_count)*100, 2)\n",
        "three_acc_ann = round((sum(complete >= 3) / records_count)*100, 2)\n",
        "\n",
        "print(\"Actuall Accuracy (pint to point): \", act_acc_ann, \"%\")\n",
        "print(\"1-miss Accuracy (pint to point): \", three_acc_ann, \"%\")"
      ],
      "metadata": {
        "colab": {
          "base_uri": "https://localhost:8080/"
        },
        "id": "WhBfwTKTa91k",
        "outputId": "e7749e52-1901-4afe-ef12-830d62a938fa"
      },
      "execution_count": null,
      "outputs": [
        {
          "output_type": "stream",
          "name": "stdout",
          "text": [
            "I-E Accuracy: 75.27 %\n",
            "N-S Accuracy: 81.96 %\n",
            "T-F Accuracy: 65.59 %\n",
            "J-P Accuracy: 56.95 %\n",
            "mean Accuracy:  69.9425 %\n",
            "Actuall Accuracy (pint to point):  31.59 %\n",
            "1-miss Accuracy (pint to point):  67.84 %\n"
          ]
        }
      ]
    },
    {
      "cell_type": "code",
      "source": [],
      "metadata": {
        "id": "ef1--Eb_bXF_"
      },
      "execution_count": null,
      "outputs": []
    }
  ]
}